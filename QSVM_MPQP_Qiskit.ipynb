{
  "nbformat": 4,
  "nbformat_minor": 0,
  "metadata": {
    "colab": {
      "provenance": [],
      "gpuType": "V28",
      "authorship_tag": "ABX9TyNP0013eQWiDDZnOSvGQL9l",
      "include_colab_link": true
    },
    "kernelspec": {
      "name": "python3",
      "display_name": "Python 3"
    },
    "language_info": {
      "name": "python"
    },
    "accelerator": "TPU"
  },
  "cells": [
    {
      "cell_type": "markdown",
      "metadata": {
        "id": "view-in-github",
        "colab_type": "text"
      },
      "source": [
        "<a href=\"https://colab.research.google.com/github/Abhijeet141022/Quantum-Machine-Learning/blob/main/QSVM_MPQP_Qiskit.ipynb\" target=\"_parent\"><img src=\"https://colab.research.google.com/assets/colab-badge.svg\" alt=\"Open In Colab\"/></a>"
      ]
    },
    {
      "cell_type": "code",
      "source": [
        "pip install mpqp"
      ],
      "metadata": {
        "colab": {
          "base_uri": "https://localhost:8080/"
        },
        "collapsed": true,
        "id": "OZrFrLu6gjAX",
        "outputId": "386dd199-5354-41bc-9026-8a1f8bdd0961"
      },
      "execution_count": null,
      "outputs": [
        {
          "output_type": "stream",
          "name": "stdout",
          "text": [
            "Requirement already satisfied: mpqp in /usr/local/lib/python3.11/dist-packages (0.4.0)\n",
            "Requirement already satisfied: aenum==3.1.15 in /usr/local/lib/python3.11/dist-packages (from mpqp) (3.1.15)\n",
            "Requirement already satisfied: amazon-braket-default-simulator==1.23.2 in /usr/local/lib/python3.11/dist-packages (from mpqp) (1.23.2)\n",
            "Requirement already satisfied: amazon-braket-sdk==1.79.1 in /usr/local/lib/python3.11/dist-packages (from mpqp) (1.79.1)\n",
            "Requirement already satisfied: anytree>=2.12.1 in /usr/local/lib/python3.11/dist-packages (from mpqp) (2.13.0)\n",
            "Requirement already satisfied: aws-configure==2.1.8 in /usr/local/lib/python3.11/dist-packages (from mpqp) (2.1.8)\n",
            "Requirement already satisfied: azure-quantum==3.1.0 in /usr/local/lib/python3.11/dist-packages (from mpqp) (3.1.0)\n",
            "Requirement already satisfied: boto3==1.35.82 in /usr/local/lib/python3.11/dist-packages (from mpqp) (1.35.82)\n",
            "Requirement already satisfied: cirq-aqt==1.3.0 in /usr/local/lib/python3.11/dist-packages (from mpqp) (1.3.0)\n",
            "Requirement already satisfied: cirq-core==1.3.0 in /usr/local/lib/python3.11/dist-packages (from mpqp) (1.3.0)\n",
            "Requirement already satisfied: cirq-google==1.3.0 in /usr/local/lib/python3.11/dist-packages (from mpqp) (1.3.0)\n",
            "Requirement already satisfied: cirq-ionq==1.3.0 in /usr/local/lib/python3.11/dist-packages (from mpqp) (1.3.0)\n",
            "Requirement already satisfied: cvxpy==1.4.3 in /usr/local/lib/python3.11/dist-packages (from mpqp) (1.4.3)\n",
            "Requirement already satisfied: jsonschema>=4.17.3 in /usr/local/lib/python3.11/dist-packages (from mpqp) (4.23.0)\n",
            "Requirement already satisfied: myqlm-interop in /usr/local/lib/python3.11/dist-packages (from mpqp) (1.10.0)\n",
            "Requirement already satisfied: myqlm==1.10.6 in /usr/local/lib/python3.11/dist-packages (from mpqp) (1.10.6)\n",
            "Requirement already satisfied: numba==0.60.0 in /usr/local/lib/python3.11/dist-packages (from mpqp) (0.60.0)\n",
            "Requirement already satisfied: numpy>=1.26.4 in /usr/local/lib/python3.11/dist-packages (from mpqp) (1.26.4)\n",
            "Requirement already satisfied: osqp==1.0.1 in /usr/local/lib/python3.11/dist-packages (from mpqp) (1.0.1)\n",
            "Requirement already satisfied: pick==2.2.0 in /usr/local/lib/python3.11/dist-packages (from mpqp) (2.2.0)\n",
            "Requirement already satisfied: pylatexenc==2.10 in /usr/local/lib/python3.11/dist-packages (from mpqp) (2.10)\n",
            "Requirement already satisfied: python-dotenv>=1.0.0 in /usr/local/lib/python3.11/dist-packages (from mpqp) (1.1.0)\n",
            "Requirement already satisfied: qiskit-aer==0.15.1 in /usr/local/lib/python3.11/dist-packages (from mpqp) (0.15.1)\n",
            "Requirement already satisfied: qiskit-ibm-runtime==0.31.0 in /usr/local/lib/python3.11/dist-packages (from mpqp) (0.31.0)\n",
            "Requirement already satisfied: qiskit==1.2.4 in /usr/local/lib/python3.11/dist-packages (from mpqp) (1.2.4)\n",
            "Requirement already satisfied: qsimcirq in /usr/local/lib/python3.11/dist-packages (from mpqp) (0.21.0)\n",
            "Requirement already satisfied: scipy>=1.11.4 in /usr/local/lib/python3.11/dist-packages (from mpqp) (1.15.3)\n",
            "Requirement already satisfied: symengine>=0.11.0 in /usr/local/lib/python3.11/dist-packages (from mpqp) (0.13.0)\n",
            "Requirement already satisfied: sympy==1.13.1 in /usr/local/lib/python3.11/dist-packages (from mpqp) (1.13.1)\n",
            "Requirement already satisfied: termcolor==2.4.0 in /usr/local/lib/python3.11/dist-packages (from mpqp) (2.4.0)\n",
            "Requirement already satisfied: typeguard>=4.2.1 in /usr/local/lib/python3.11/dist-packages (from mpqp) (4.4.2)\n",
            "Requirement already satisfied: wheel in /usr/local/lib/python3.11/dist-packages (from mpqp) (0.45.1)\n",
            "Requirement already satisfied: opt-einsum in /usr/local/lib/python3.11/dist-packages (from amazon-braket-default-simulator==1.23.2->mpqp) (3.4.0)\n",
            "Requirement already satisfied: pydantic>2 in /usr/local/lib/python3.11/dist-packages (from amazon-braket-default-simulator==1.23.2->mpqp) (2.11.4)\n",
            "Requirement already satisfied: antlr4-python3-runtime==4.9.2 in /usr/local/lib/python3.11/dist-packages (from amazon-braket-default-simulator==1.23.2->mpqp) (4.9.2)\n",
            "Requirement already satisfied: amazon-braket-schemas>=1.21.2 in /usr/local/lib/python3.11/dist-packages (from amazon-braket-default-simulator==1.23.2->mpqp) (1.24.0)\n",
            "Requirement already satisfied: oqpy~=0.3.5 in /usr/local/lib/python3.11/dist-packages (from amazon-braket-sdk==1.79.1->mpqp) (0.3.7)\n",
            "Requirement already satisfied: backoff in /usr/local/lib/python3.11/dist-packages (from amazon-braket-sdk==1.79.1->mpqp) (2.2.1)\n",
            "Requirement already satisfied: boltons in /usr/local/lib/python3.11/dist-packages (from amazon-braket-sdk==1.79.1->mpqp) (25.0.0)\n",
            "Requirement already satisfied: cloudpickle==2.2.1 in /usr/local/lib/python3.11/dist-packages (from amazon-braket-sdk==1.79.1->mpqp) (2.2.1)\n",
            "Requirement already satisfied: nest-asyncio in /usr/local/lib/python3.11/dist-packages (from amazon-braket-sdk==1.79.1->mpqp) (1.6.0)\n",
            "Requirement already satisfied: networkx in /usr/local/lib/python3.11/dist-packages (from amazon-braket-sdk==1.79.1->mpqp) (3.4.2)\n",
            "Requirement already satisfied: openpulse in /usr/local/lib/python3.11/dist-packages (from amazon-braket-sdk==1.79.1->mpqp) (1.0.1)\n",
            "Requirement already satisfied: openqasm3 in /usr/local/lib/python3.11/dist-packages (from amazon-braket-sdk==1.79.1->mpqp) (1.0.1)\n",
            "Requirement already satisfied: backports.entry-points-selectable in /usr/local/lib/python3.11/dist-packages (from amazon-braket-sdk==1.79.1->mpqp) (1.3.0)\n",
            "Requirement already satisfied: awscli in /usr/local/lib/python3.11/dist-packages (from aws-configure==2.1.8->mpqp) (1.36.40)\n",
            "Requirement already satisfied: botocore in /usr/local/lib/python3.11/dist-packages (from aws-configure==2.1.8->mpqp) (1.35.99)\n",
            "Requirement already satisfied: azure-core<2.0,>=1.30 in /usr/local/lib/python3.11/dist-packages (from azure-quantum==3.1.0->mpqp) (1.34.0)\n",
            "Requirement already satisfied: azure-identity<2.0,>=1.17 in /usr/local/lib/python3.11/dist-packages (from azure-quantum==3.1.0->mpqp) (1.23.0)\n",
            "Requirement already satisfied: azure-storage-blob==12.20 in /usr/local/lib/python3.11/dist-packages (from azure-quantum==3.1.0->mpqp) (12.20.0)\n",
            "Requirement already satisfied: msrest<1.0,>=0.7.1 in /usr/local/lib/python3.11/dist-packages (from azure-quantum==3.1.0->mpqp) (0.7.1)\n",
            "Requirement already satisfied: deprecated<2.0,>=1.2.12 in /usr/local/lib/python3.11/dist-packages (from azure-quantum==3.1.0->mpqp) (1.2.18)\n",
            "Requirement already satisfied: Markdown>=3.4.1 in /usr/local/lib/python3.11/dist-packages (from azure-quantum==3.1.0->mpqp) (3.8)\n",
            "Requirement already satisfied: python-markdown-math>=0.8 in /usr/local/lib/python3.11/dist-packages (from azure-quantum==3.1.0->mpqp) (0.9)\n",
            "Requirement already satisfied: jmespath<2.0.0,>=0.7.1 in /usr/local/lib/python3.11/dist-packages (from boto3==1.35.82->mpqp) (1.0.1)\n",
            "Requirement already satisfied: s3transfer<0.11.0,>=0.10.0 in /usr/local/lib/python3.11/dist-packages (from boto3==1.35.82->mpqp) (0.10.4)\n",
            "Requirement already satisfied: requests~=2.18 in /usr/local/lib/python3.11/dist-packages (from cirq-aqt==1.3.0->mpqp) (2.32.3)\n",
            "Requirement already satisfied: duet~=0.2.8 in /usr/local/lib/python3.11/dist-packages (from cirq-core==1.3.0->mpqp) (0.2.9)\n",
            "Requirement already satisfied: matplotlib~=3.0 in /usr/local/lib/python3.11/dist-packages (from cirq-core==1.3.0->mpqp) (3.10.0)\n",
            "Requirement already satisfied: pandas in /usr/local/lib/python3.11/dist-packages (from cirq-core==1.3.0->mpqp) (2.2.2)\n",
            "Requirement already satisfied: sortedcontainers~=2.0 in /usr/local/lib/python3.11/dist-packages (from cirq-core==1.3.0->mpqp) (2.4.0)\n",
            "Requirement already satisfied: typing-extensions>=4.2 in /usr/local/lib/python3.11/dist-packages (from cirq-core==1.3.0->mpqp) (4.13.2)\n",
            "Requirement already satisfied: tqdm in /usr/local/lib/python3.11/dist-packages (from cirq-core==1.3.0->mpqp) (4.67.1)\n",
            "Requirement already satisfied: google-api-core>=1.14.0 in /usr/local/lib/python3.11/dist-packages (from google-api-core[grpc]>=1.14.0->cirq-google==1.3.0->mpqp) (2.24.2)\n",
            "Requirement already satisfied: proto-plus>=1.20.0 in /usr/local/lib/python3.11/dist-packages (from cirq-google==1.3.0->mpqp) (1.26.1)\n",
            "Requirement already satisfied: protobuf>=3.15.0 in /usr/local/lib/python3.11/dist-packages (from cirq-google==1.3.0->mpqp) (5.29.4)\n",
            "Requirement already satisfied: ecos>=2 in /usr/local/lib/python3.11/dist-packages (from cvxpy==1.4.3->mpqp) (2.0.14)\n",
            "Requirement already satisfied: clarabel>=0.5.0 in /usr/local/lib/python3.11/dist-packages (from cvxpy==1.4.3->mpqp) (0.10.0)\n",
            "Requirement already satisfied: scs>=3.0 in /usr/local/lib/python3.11/dist-packages (from cvxpy==1.4.3->mpqp) (3.2.7.post2)\n",
            "Requirement already satisfied: pybind11 in /usr/local/lib/python3.11/dist-packages (from cvxpy==1.4.3->mpqp) (2.13.6)\n",
            "Requirement already satisfied: qat-comm==1.6.1 in /usr/local/lib/python3.11/dist-packages (from myqlm==1.10.6->mpqp) (1.6.1)\n",
            "Requirement already satisfied: qat-core==1.10.0 in /usr/local/lib/python3.11/dist-packages (from myqlm==1.10.6->mpqp) (1.10.0)\n",
            "Requirement already satisfied: qat-devices==0.3.0 in /usr/local/lib/python3.11/dist-packages (from myqlm==1.10.6->mpqp) (0.3.0)\n",
            "Requirement already satisfied: qat-fusion==0.1.0 in /usr/local/lib/python3.11/dist-packages (from myqlm==1.10.6->mpqp) (0.1.0)\n",
            "Requirement already satisfied: qat-lang==3.1.0 in /usr/local/lib/python3.11/dist-packages (from myqlm==1.10.6->mpqp) (3.1.0)\n",
            "Requirement already satisfied: qat-anapli==0.0.1 in /usr/local/lib/python3.11/dist-packages (from myqlm==1.10.6->mpqp) (0.0.1)\n",
            "Requirement already satisfied: qat-variational==1.5.0 in /usr/local/lib/python3.11/dist-packages (from myqlm==1.10.6->mpqp) (1.5.0)\n",
            "Requirement already satisfied: qlmaas==1.10.2 in /usr/local/lib/python3.11/dist-packages (from myqlm==1.10.6->mpqp) (1.10.2)\n",
            "Requirement already satisfied: myqlm-clinalg==0.2.4 in /usr/local/lib/python3.11/dist-packages (from myqlm==1.10.6->mpqp) (0.2.4)\n",
            "Requirement already satisfied: myqlm-contrib==1.9.5 in /usr/local/lib/python3.11/dist-packages (from myqlm==1.10.6->mpqp) (1.9.5)\n",
            "Requirement already satisfied: myqlm-fermion==1.1.4 in /usr/local/lib/python3.11/dist-packages (from myqlm==1.10.6->mpqp) (1.1.4)\n",
            "Requirement already satisfied: myqlm-simulators==1.9.5 in /usr/local/lib/python3.11/dist-packages (from myqlm==1.10.6->mpqp) (1.9.5)\n",
            "Requirement already satisfied: llvmlite<0.44,>=0.43.0dev0 in /usr/local/lib/python3.11/dist-packages (from numba==0.60.0->mpqp) (0.43.0)\n",
            "Requirement already satisfied: jinja2 in /usr/local/lib/python3.11/dist-packages (from osqp==1.0.1->mpqp) (3.1.6)\n",
            "Requirement already satisfied: setuptools in /usr/local/lib/python3.11/dist-packages (from osqp==1.0.1->mpqp) (75.2.0)\n",
            "Requirement already satisfied: joblib in /usr/local/lib/python3.11/dist-packages (from osqp==1.0.1->mpqp) (1.5.0)\n",
            "Requirement already satisfied: rustworkx>=0.15.0 in /usr/local/lib/python3.11/dist-packages (from qiskit==1.2.4->mpqp) (0.16.0)\n",
            "Requirement already satisfied: dill>=0.3 in /usr/local/lib/python3.11/dist-packages (from qiskit==1.2.4->mpqp) (0.4.0)\n",
            "Requirement already satisfied: python-dateutil>=2.8.0 in /usr/local/lib/python3.11/dist-packages (from qiskit==1.2.4->mpqp) (2.9.0.post0)\n",
            "Requirement already satisfied: stevedore>=3.0.0 in /usr/local/lib/python3.11/dist-packages (from qiskit==1.2.4->mpqp) (5.4.1)\n",
            "Requirement already satisfied: psutil>=5 in /usr/local/lib/python3.11/dist-packages (from qiskit-aer==0.15.1->mpqp) (5.9.5)\n",
            "Requirement already satisfied: requests-ntlm>=1.1.0 in /usr/local/lib/python3.11/dist-packages (from qiskit-ibm-runtime==0.31.0->mpqp) (1.3.0)\n",
            "Requirement already satisfied: urllib3>=1.21.1 in /usr/local/lib/python3.11/dist-packages (from qiskit-ibm-runtime==0.31.0->mpqp) (2.4.0)\n",
            "Requirement already satisfied: websocket-client>=1.5.1 in /usr/local/lib/python3.11/dist-packages (from qiskit-ibm-runtime==0.31.0->mpqp) (1.8.0)\n",
            "Requirement already satisfied: ibm-platform-services>=0.22.6 in /usr/local/lib/python3.11/dist-packages (from qiskit-ibm-runtime==0.31.0->mpqp) (0.65.0)\n",
            "Requirement already satisfied: mpmath<1.4,>=1.1.0 in /usr/local/lib/python3.11/dist-packages (from sympy==1.13.1->mpqp) (1.3.0)\n",
            "Requirement already satisfied: cryptography>=2.1.4 in /usr/local/lib/python3.11/dist-packages (from azure-storage-blob==12.20->azure-quantum==3.1.0->mpqp) (45.0.2)\n",
            "Requirement already satisfied: isodate>=0.6.1 in /usr/local/lib/python3.11/dist-packages (from azure-storage-blob==12.20->azure-quantum==3.1.0->mpqp) (0.7.2)\n",
            "Requirement already satisfied: bitstring in /usr/local/lib/python3.11/dist-packages (from myqlm-fermion==1.1.4->myqlm==1.10.6->mpqp) (4.3.1)\n",
            "Requirement already satisfied: thrift==0.20.0 in /usr/local/lib/python3.11/dist-packages (from qat-comm==1.6.1->myqlm==1.10.6->mpqp) (0.20.0)\n",
            "Requirement already satisfied: wand in /usr/local/lib/python3.11/dist-packages (from qat-core==1.10.0->myqlm==1.10.6->mpqp) (0.6.13)\n",
            "Requirement already satisfied: Pillow in /usr/local/lib/python3.11/dist-packages (from qat-core==1.10.0->myqlm==1.10.6->mpqp) (11.2.1)\n",
            "Requirement already satisfied: svgwrite in /usr/local/lib/python3.11/dist-packages (from qat-core==1.10.0->myqlm==1.10.6->mpqp) (1.4.3)\n",
            "Requirement already satisfied: jax[cpu] in /usr/local/lib/python3.11/dist-packages (from qat-core==1.10.0->myqlm==1.10.6->mpqp) (0.5.2)\n",
            "Requirement already satisfied: IPython in /usr/local/lib/python3.11/dist-packages (from qat-core==1.10.0->myqlm==1.10.6->mpqp) (7.34.0)\n",
            "Requirement already satisfied: ply==3.11 in /usr/local/lib/python3.11/dist-packages (from qat-lang==3.1.0->myqlm==1.10.6->mpqp) (3.11)\n",
            "Requirement already satisfied: prompt-toolkit in /usr/local/lib/python3.11/dist-packages (from qlmaas==1.10.2->myqlm==1.10.6->mpqp) (3.0.51)\n",
            "Requirement already satisfied: prettytable in /usr/local/lib/python3.11/dist-packages (from qlmaas==1.10.2->myqlm==1.10.6->mpqp) (3.16.0)\n",
            "Requirement already satisfied: pyOpenSSL in /usr/local/lib/python3.11/dist-packages (from qlmaas==1.10.2->myqlm==1.10.6->mpqp) (25.1.0)\n",
            "Requirement already satisfied: cffi in /usr/local/lib/python3.11/dist-packages (from qlmaas==1.10.2->myqlm==1.10.6->mpqp) (1.17.1)\n",
            "Requirement already satisfied: qat-hardware>=1.4.0 in /usr/local/lib/python3.11/dist-packages (from qlmaas==1.10.2->myqlm==1.10.6->mpqp) (1.5.0)\n",
            "Requirement already satisfied: qat-quops>=1.3.4 in /usr/local/lib/python3.11/dist-packages (from qlmaas==1.10.2->myqlm==1.10.6->mpqp) (1.4.0)\n",
            "Requirement already satisfied: packaging in /usr/local/lib/python3.11/dist-packages (from qlmaas==1.10.2->myqlm==1.10.6->mpqp) (25.0)\n",
            "Requirement already satisfied: six>=1.7.2 in /usr/local/lib/python3.11/dist-packages (from thrift==0.20.0->qat-comm==1.6.1->myqlm==1.10.6->mpqp) (1.17.0)\n",
            "Requirement already satisfied: attrs>=22.2.0 in /usr/local/lib/python3.11/dist-packages (from jsonschema>=4.17.3->mpqp) (25.3.0)\n",
            "Requirement already satisfied: jsonschema-specifications>=2023.03.6 in /usr/local/lib/python3.11/dist-packages (from jsonschema>=4.17.3->mpqp) (2025.4.1)\n",
            "Requirement already satisfied: referencing>=0.28.4 in /usr/local/lib/python3.11/dist-packages (from jsonschema>=4.17.3->mpqp) (0.36.2)\n",
            "Requirement already satisfied: rpds-py>=0.7.1 in /usr/local/lib/python3.11/dist-packages (from jsonschema>=4.17.3->mpqp) (0.24.0)\n",
            "Requirement already satisfied: qiskit-ionq<0.6,>=0.5 in /usr/local/lib/python3.11/dist-packages (from azure-quantum[qiskit]->mpqp) (0.5.13)\n",
            "Requirement already satisfied: qsharp<2.0,>=1.9.0 in /usr/local/lib/python3.11/dist-packages (from qsharp[qiskit]<2.0,>=1.9.0; extra == \"qiskit\"->azure-quantum[qiskit]->mpqp) (1.16.0)\n",
            "Requirement already satisfied: pyqir<0.11,>=0.10.6 in /usr/local/lib/python3.11/dist-packages (from azure-quantum[qiskit]->mpqp) (0.10.9)\n",
            "Requirement already satisfied: absl-py in /usr/local/lib/python3.11/dist-packages (from qsimcirq->mpqp) (1.4.0)\n",
            "Requirement already satisfied: msal>=1.30.0 in /usr/local/lib/python3.11/dist-packages (from azure-identity<2.0,>=1.17->azure-quantum==3.1.0->mpqp) (1.32.3)\n",
            "Requirement already satisfied: msal-extensions>=1.2.0 in /usr/local/lib/python3.11/dist-packages (from azure-identity<2.0,>=1.17->azure-quantum==3.1.0->mpqp) (1.3.1)\n",
            "Requirement already satisfied: wrapt<2,>=1.10 in /usr/local/lib/python3.11/dist-packages (from deprecated<2.0,>=1.2.12->azure-quantum==3.1.0->mpqp) (1.17.2)\n",
            "Requirement already satisfied: googleapis-common-protos<2.0.0,>=1.56.2 in /usr/local/lib/python3.11/dist-packages (from google-api-core>=1.14.0->google-api-core[grpc]>=1.14.0->cirq-google==1.3.0->mpqp) (1.70.0)\n",
            "Requirement already satisfied: google-auth<3.0.0,>=2.14.1 in /usr/local/lib/python3.11/dist-packages (from google-api-core>=1.14.0->google-api-core[grpc]>=1.14.0->cirq-google==1.3.0->mpqp) (2.38.0)\n",
            "Requirement already satisfied: grpcio<2.0dev,>=1.33.2 in /usr/local/lib/python3.11/dist-packages (from google-api-core[grpc]>=1.14.0->cirq-google==1.3.0->mpqp) (1.71.0)\n",
            "Requirement already satisfied: grpcio-status<2.0.dev0,>=1.33.2 in /usr/local/lib/python3.11/dist-packages (from google-api-core[grpc]>=1.14.0->cirq-google==1.3.0->mpqp) (1.71.0)\n",
            "Requirement already satisfied: ibm_cloud_sdk_core<4.0.0,>=3.22.1 in /usr/local/lib/python3.11/dist-packages (from ibm-platform-services>=0.22.6->qiskit-ibm-runtime==0.31.0->mpqp) (3.23.0)\n",
            "Requirement already satisfied: contourpy>=1.0.1 in /usr/local/lib/python3.11/dist-packages (from matplotlib~=3.0->cirq-core==1.3.0->mpqp) (1.3.2)\n",
            "Requirement already satisfied: cycler>=0.10 in /usr/local/lib/python3.11/dist-packages (from matplotlib~=3.0->cirq-core==1.3.0->mpqp) (0.12.1)\n",
            "Requirement already satisfied: fonttools>=4.22.0 in /usr/local/lib/python3.11/dist-packages (from matplotlib~=3.0->cirq-core==1.3.0->mpqp) (4.58.0)\n",
            "Requirement already satisfied: kiwisolver>=1.3.1 in /usr/local/lib/python3.11/dist-packages (from matplotlib~=3.0->cirq-core==1.3.0->mpqp) (1.4.8)\n",
            "Requirement already satisfied: pyparsing>=2.3.1 in /usr/local/lib/python3.11/dist-packages (from matplotlib~=3.0->cirq-core==1.3.0->mpqp) (3.2.3)\n",
            "Requirement already satisfied: certifi>=2017.4.17 in /usr/local/lib/python3.11/dist-packages (from msrest<1.0,>=0.7.1->azure-quantum==3.1.0->mpqp) (2025.4.26)\n",
            "Requirement already satisfied: requests-oauthlib>=0.5.0 in /usr/local/lib/python3.11/dist-packages (from msrest<1.0,>=0.7.1->azure-quantum==3.1.0->mpqp) (2.0.0)\n",
            "Requirement already satisfied: mypy-extensions>=0.2.0 in /usr/local/lib/python3.11/dist-packages (from oqpy~=0.3.5->amazon-braket-sdk==1.79.1->mpqp) (1.1.0)\n",
            "Requirement already satisfied: annotated-types>=0.6.0 in /usr/local/lib/python3.11/dist-packages (from pydantic>2->amazon-braket-default-simulator==1.23.2->mpqp) (0.7.0)\n",
            "Requirement already satisfied: pydantic-core==2.33.2 in /usr/local/lib/python3.11/dist-packages (from pydantic>2->amazon-braket-default-simulator==1.23.2->mpqp) (2.33.2)\n",
            "Requirement already satisfied: typing-inspection>=0.4.0 in /usr/local/lib/python3.11/dist-packages (from pydantic>2->amazon-braket-default-simulator==1.23.2->mpqp) (0.4.0)\n",
            "Requirement already satisfied: decorator>=5.1.0 in /usr/local/lib/python3.11/dist-packages (from qiskit-ionq<0.6,>=0.5->azure-quantum[qiskit]->mpqp) (5.2.1)\n",
            "Requirement already satisfied: importlib-metadata>=4.11.4 in /usr/local/lib/python3.11/dist-packages (from qiskit-ionq<0.6,>=0.5->azure-quantum[qiskit]->mpqp) (8.7.0)\n",
            "Requirement already satisfied: charset-normalizer<4,>=2 in /usr/local/lib/python3.11/dist-packages (from requests~=2.18->cirq-aqt==1.3.0->mpqp) (3.4.2)\n",
            "Requirement already satisfied: idna<4,>=2.5 in /usr/local/lib/python3.11/dist-packages (from requests~=2.18->cirq-aqt==1.3.0->mpqp) (3.10)\n",
            "Requirement already satisfied: pyspnego>=0.4.0 in /usr/local/lib/python3.11/dist-packages (from requests-ntlm>=1.1.0->qiskit-ibm-runtime==0.31.0->mpqp) (0.11.2)\n",
            "Requirement already satisfied: pbr>=2.0.0 in /usr/local/lib/python3.11/dist-packages (from stevedore>=3.0.0->qiskit==1.2.4->mpqp) (6.1.1)\n",
            "Requirement already satisfied: docutils<0.17,>=0.10 in /usr/local/lib/python3.11/dist-packages (from awscli->aws-configure==2.1.8->mpqp) (0.16)\n",
            "Requirement already satisfied: PyYAML<6.1,>=3.10 in /usr/local/lib/python3.11/dist-packages (from awscli->aws-configure==2.1.8->mpqp) (6.0.2)\n",
            "Requirement already satisfied: colorama<0.4.7,>=0.2.5 in /usr/local/lib/python3.11/dist-packages (from awscli->aws-configure==2.1.8->mpqp) (0.4.6)\n",
            "Requirement already satisfied: rsa<4.8,>=3.1.2 in /usr/local/lib/python3.11/dist-packages (from awscli->aws-configure==2.1.8->mpqp) (4.7.2)\n",
            "Requirement already satisfied: MarkupSafe>=2.0 in /usr/local/lib/python3.11/dist-packages (from jinja2->osqp==1.0.1->mpqp) (3.0.2)\n",
            "Requirement already satisfied: pytz>=2020.1 in /usr/local/lib/python3.11/dist-packages (from pandas->cirq-core==1.3.0->mpqp) (2025.2)\n",
            "Requirement already satisfied: tzdata>=2022.7 in /usr/local/lib/python3.11/dist-packages (from pandas->cirq-core==1.3.0->mpqp) (2025.2)\n",
            "Requirement already satisfied: pycparser in /usr/local/lib/python3.11/dist-packages (from cffi->qlmaas==1.10.2->myqlm==1.10.6->mpqp) (2.22)\n",
            "Requirement already satisfied: cachetools<6.0,>=2.0.0 in /usr/local/lib/python3.11/dist-packages (from google-auth<3.0.0,>=2.14.1->google-api-core>=1.14.0->google-api-core[grpc]>=1.14.0->cirq-google==1.3.0->mpqp) (5.5.2)\n",
            "Requirement already satisfied: pyasn1-modules>=0.2.1 in /usr/local/lib/python3.11/dist-packages (from google-auth<3.0.0,>=2.14.1->google-api-core>=1.14.0->google-api-core[grpc]>=1.14.0->cirq-google==1.3.0->mpqp) (0.4.2)\n",
            "Requirement already satisfied: PyJWT<3.0.0,>=2.8.0 in /usr/local/lib/python3.11/dist-packages (from ibm_cloud_sdk_core<4.0.0,>=3.22.1->ibm-platform-services>=0.22.6->qiskit-ibm-runtime==0.31.0->mpqp) (2.10.1)\n",
            "Requirement already satisfied: zipp>=3.20 in /usr/local/lib/python3.11/dist-packages (from importlib-metadata>=4.11.4->qiskit-ionq<0.6,>=0.5->azure-quantum[qiskit]->mpqp) (3.21.0)\n",
            "Requirement already satisfied: qutip in /usr/local/lib/python3.11/dist-packages (from qat-hardware>=1.4.0->qlmaas==1.10.2->myqlm==1.10.6->mpqp) (5.1.1)\n",
            "Requirement already satisfied: oauthlib>=3.0.0 in /usr/local/lib/python3.11/dist-packages (from requests-oauthlib>=0.5.0->msrest<1.0,>=0.7.1->azure-quantum==3.1.0->mpqp) (3.2.2)\n",
            "Requirement already satisfied: pyasn1>=0.1.3 in /usr/local/lib/python3.11/dist-packages (from rsa<4.8,>=3.1.2->awscli->aws-configure==2.1.8->mpqp) (0.6.1)\n",
            "Requirement already satisfied: bitarray<4.0,>=3.0.0 in /usr/local/lib/python3.11/dist-packages (from bitstring->myqlm-fermion==1.1.4->myqlm==1.10.6->mpqp) (3.4.1)\n",
            "Requirement already satisfied: jedi>=0.16 in /usr/local/lib/python3.11/dist-packages (from IPython->qat-core==1.10.0->myqlm==1.10.6->mpqp) (0.19.2)\n",
            "Requirement already satisfied: pickleshare in /usr/local/lib/python3.11/dist-packages (from IPython->qat-core==1.10.0->myqlm==1.10.6->mpqp) (0.7.5)\n",
            "Requirement already satisfied: traitlets>=4.2 in /usr/local/lib/python3.11/dist-packages (from IPython->qat-core==1.10.0->myqlm==1.10.6->mpqp) (5.7.1)\n",
            "Requirement already satisfied: pygments in /usr/local/lib/python3.11/dist-packages (from IPython->qat-core==1.10.0->myqlm==1.10.6->mpqp) (2.19.1)\n",
            "Requirement already satisfied: backcall in /usr/local/lib/python3.11/dist-packages (from IPython->qat-core==1.10.0->myqlm==1.10.6->mpqp) (0.2.0)\n",
            "Requirement already satisfied: matplotlib-inline in /usr/local/lib/python3.11/dist-packages (from IPython->qat-core==1.10.0->myqlm==1.10.6->mpqp) (0.1.7)\n",
            "Requirement already satisfied: pexpect>4.3 in /usr/local/lib/python3.11/dist-packages (from IPython->qat-core==1.10.0->myqlm==1.10.6->mpqp) (4.9.0)\n",
            "Requirement already satisfied: wcwidth in /usr/local/lib/python3.11/dist-packages (from prompt-toolkit->qlmaas==1.10.2->myqlm==1.10.6->mpqp) (0.2.13)\n",
            "Requirement already satisfied: jaxlib<=0.5.2,>=0.5.1 in /usr/local/lib/python3.11/dist-packages (from jax[cpu]->qat-core==1.10.0->myqlm==1.10.6->mpqp) (0.5.1)\n",
            "Requirement already satisfied: ml_dtypes>=0.4.0 in /usr/local/lib/python3.11/dist-packages (from jax[cpu]->qat-core==1.10.0->myqlm==1.10.6->mpqp) (0.5.1)\n",
            "Requirement already satisfied: parso<0.9.0,>=0.8.4 in /usr/local/lib/python3.11/dist-packages (from jedi>=0.16->IPython->qat-core==1.10.0->myqlm==1.10.6->mpqp) (0.8.4)\n",
            "Requirement already satisfied: ptyprocess>=0.5 in /usr/local/lib/python3.11/dist-packages (from pexpect>4.3->IPython->qat-core==1.10.0->myqlm==1.10.6->mpqp) (0.7.0)\n"
          ]
        }
      ]
    },
    {
      "cell_type": "code",
      "source": [
        "from mpqp.execution import *\n",
        "from mpqp import QCircuit"
      ],
      "metadata": {
        "id": "wv5ZKc-vhQjN"
      },
      "execution_count": null,
      "outputs": []
    },
    {
      "cell_type": "code",
      "source": [
        "from sympy import symbols\n",
        "import numpy as np"
      ],
      "metadata": {
        "id": "dfzGbD5GiSk0"
      },
      "execution_count": null,
      "outputs": []
    },
    {
      "cell_type": "code",
      "source": [
        "theta, k = symbols(\"Θ k\")"
      ],
      "metadata": {
        "id": "h4s7k5q_hZDV"
      },
      "execution_count": null,
      "outputs": []
    },
    {
      "cell_type": "code",
      "source": [
        "from mpqp.gates import X, CNOT, T, CZ, H, Ry, CRk, Rx, Rk, S, Y, Z, Rz\n",
        "from mpqp.measures import BasisMeasure, ExpectationMeasure, Observable\n",
        "from mpqp.noise import Depolarizing\n",
        "from mpqp import Barrier"
      ],
      "metadata": {
        "id": "T6yKJlYHiYYI"
      },
      "execution_count": null,
      "outputs": []
    },
    {
      "cell_type": "code",
      "source": [
        "#from mpqp.execution import run, ATOSDevice\n",
        "#circuit = QCircuit([X(0), CNOT(0, 1), CZ(1, 2), BasisMeasure([0, 1, 2], shots=100)])\n",
        "#print(circuit)\n",
        "#print(run(circuit, ATOSDevice.MYQLM_PYLINALG))"
      ],
      "metadata": {
        "colab": {
          "base_uri": "https://localhost:8080/"
        },
        "outputId": "e2baa138-1978-4d98-d073-c231a3831a11",
        "id": "wdPATQFDRKKP"
      },
      "execution_count": null,
      "outputs": [
        {
          "output_type": "stream",
          "name": "stdout",
          "text": [
            "     ┌───┐        ┌─┐      \n",
            "q_0: ┤ X ├──■─────┤M├──────\n",
            "     └───┘┌─┴─┐   └╥┘┌─┐   \n",
            "q_1: ─────┤ X ├─■──╫─┤M├───\n",
            "          └───┘ │  ║ └╥┘┌─┐\n",
            "q_2: ───────────■──╫──╫─┤M├\n",
            "                   ║  ║ └╥┘\n",
            "c: 3/══════════════╩══╩══╩═\n",
            "                   0  1  2 \n",
            "Result: ATOSDevice, MYQLM_PYLINALG\n",
            "  Counts: [0, 0, 0, 0, 0, 0, 100, 0]\n",
            "  Probabilities: [0, 0, 0, 0, 0, 0, 1, 0]\n",
            "  Samples:\n",
            "    State: 110, Index: 6, Count: 100, Probability: 1\n",
            "  Error: 0.0\n"
          ]
        }
      ]
    },
    {
      "cell_type": "code",
      "source": [
        "!pip install -q scikit-learn matplotlib\n",
        "\n",
        "import numpy as np\n",
        "from sklearn import svm\n",
        "from sklearn.model_selection import train_test_split\n",
        "from sklearn.datasets import make_circles\n",
        "from sklearn.metrics import accuracy_score\n",
        "import matplotlib.pyplot as plt\n",
        "\n",
        "# Generating a non-linearly separable dataset (Circles)\n",
        "X, y = make_circles(n_samples=50, factor=0.5, noise=0.1)\n",
        "\n",
        "# Train/test split\n",
        "X_train, X_test, y_train, y_test = train_test_split(X, y, test_size=0.3, random_state=42)"
      ],
      "metadata": {
        "id": "cUTuDOzV-Fyx"
      },
      "execution_count": null,
      "outputs": []
    },
    {
      "cell_type": "code",
      "source": [
        "import qiskit as qk\n",
        "# Creating Qubits\n",
        "q = qk.QuantumRegister(2)\n",
        "# Creating Classical Bits\n",
        "c = qk.ClassicalRegister(2)"
      ],
      "metadata": {
        "id": "-kL8bauPDNgE"
      },
      "execution_count": null,
      "outputs": []
    },
    {
      "cell_type": "code",
      "source": [
        "circuit = qk.QuantumCircuit(q, c)\n",
        "print(circuit)"
      ],
      "metadata": {
        "colab": {
          "base_uri": "https://localhost:8080/"
        },
        "id": "AD_bNQHTDXTR",
        "outputId": "57da6b60-8c36-4a67-8c4a-c9839a5b4bee"
      },
      "execution_count": null,
      "outputs": [
        {
          "output_type": "stream",
          "name": "stdout",
          "text": [
            "      \n",
            "q2_0: \n",
            "      \n",
            "q2_1: \n",
            "      \n",
            "c1: 2/\n",
            "      \n"
          ]
        }
      ]
    },
    {
      "cell_type": "code",
      "source": [
        "# Initializing empty circuit\n",
        "circuit = qk.QuantumCircuit(q, c)\n",
        "# Hadamard Gate on the first Qubit\n",
        "circuit.h(q[0])\n",
        "# CNOT Gate on the first and second Qubits\n",
        "circuit.cx(q[0], q[1])\n",
        "# Measuring the Qubits\n",
        "circuit.measure(q, c)\n",
        "print (circuit)"
      ],
      "metadata": {
        "colab": {
          "base_uri": "https://localhost:8080/"
        },
        "id": "inviMoT3Dc5Z",
        "outputId": "87923674-0f87-4f3d-b789-f58fa6a7ab90"
      },
      "execution_count": null,
      "outputs": [
        {
          "output_type": "stream",
          "name": "stdout",
          "text": [
            "      ┌───┐     ┌─┐   \n",
            "q2_0: ┤ H ├──■──┤M├───\n",
            "      └───┘┌─┴─┐└╥┘┌─┐\n",
            "q2_1: ─────┤ X ├─╫─┤M├\n",
            "           └───┘ ║ └╥┘\n",
            "c1: 2/═══════════╩══╩═\n",
            "                 0  1 \n"
          ]
        }
      ]
    },
    {
      "cell_type": "code",
      "source": [
        "from qiskit.circuit.library import PauliFeatureMap"
      ],
      "metadata": {
        "id": "kZ1wDAUFjv42"
      },
      "execution_count": null,
      "outputs": []
    },
    {
      "cell_type": "code",
      "source": [
        "feature_map = PauliFeatureMap(feature_dimension=2)"
      ],
      "metadata": {
        "id": "MhbSoueFi5zu"
      },
      "execution_count": null,
      "outputs": []
    },
    {
      "cell_type": "code",
      "source": [
        "x = np.array([0.6, 0.3])\n",
        "print(feature_map.assign_parameters(x))"
      ],
      "metadata": {
        "colab": {
          "base_uri": "https://localhost:8080/"
        },
        "id": "sPCZE50bbGbH",
        "outputId": "1846388b-bc1f-4464-f2c1-5818694ac8e1"
      },
      "execution_count": null,
      "outputs": [
        {
          "output_type": "stream",
          "name": "stdout",
          "text": [
            "     ┌───────────────────────────┐\n",
            "q_0: ┤0                          ├\n",
            "     │  PauliFeatureMap(0.6,0.3) │\n",
            "q_1: ┤1                          ├\n",
            "     └───────────────────────────┘\n"
          ]
        }
      ]
    },
    {
      "cell_type": "code",
      "source": [
        "from sklearn.svm import SVC\n",
        "\n",
        "def get_execution_params(data1, data2=None):\n",
        "    \"\"\"\n",
        "    Generate execution parameters based on the mode (train or validate).\n",
        "\n",
        "    Parameters:\n",
        "    - data1: First dataset (used for both training and validation).\n",
        "    - data2: Second dataset (only required for validation).\n",
        "\n",
        "    Returns:\n",
        "    - A list of dictionaries with execution parameters.\n",
        "    \"\"\"\n",
        "    if data2 is None:\n",
        "        # Training mode (symmetric pairs of data1)\n",
        "        return [\n",
        "            {\"data1\": data1[k], \"data2\": data1[j]}\n",
        "            for k in range(len(data1))\n",
        "            for j in range(k, len(data1))  # Avoid symmetric pairs\n",
        "        ]\n",
        "    else:\n",
        "        # Prediction mode\n",
        "        return [\n",
        "            {\"data1\": data1[k], \"data2\": data2[j]}\n",
        "            for k in range(len(data1))\n",
        "            for j in range(len(data2))\n",
        "        ]\n",
        "\n",
        "\n",
        "def construct_kernel_matrix(matrix_size, res_batch, train=False):\n",
        "    \"\"\"\n",
        "    Construct a kernel matrix from `res_batch`, depending on whether it's for training or predicting.\n",
        "\n",
        "    Parameters:\n",
        "    - matrix_size: Tuple of (number of rows, number of columns) for the matrix.\n",
        "    - res_batch: Precomputed batch results.\n",
        "    - train: Boolean flag. If True, assumes training (symmetric matrix).\n",
        "\n",
        "    Returns:\n",
        "    - A kernel matrix as a NumPy array.\n",
        "    \"\"\"\n",
        "    rows, cols = matrix_size\n",
        "    kernel_matrix = np.zeros((rows, cols))\n",
        "\n",
        "    num_shots = res_batch[0].num_shots\n",
        "    num_output_qubits = len(next(iter(res_batch[0].counts)))\n",
        "\n",
        "    count = 0\n",
        "    if train:  # and rows == cols:\n",
        "        # Symmetric matrix (training)\n",
        "        for k in range(rows):\n",
        "            for j in range(k, cols):\n",
        "                value = (\n",
        "                    res_batch[count].counts.get(\"0\" * num_output_qubits, 0) / num_shots\n",
        "                )\n",
        "                kernel_matrix[k, j] = value\n",
        "                kernel_matrix[j, k] = value  # Use symmetry\n",
        "                count += 1\n",
        "    else:\n",
        "        # Non-symmetric matrix (validation)\n",
        "        for k in range(rows):\n",
        "            for j in range(cols):\n",
        "                kernel_matrix[k, j] = (\n",
        "                    res_batch[count].counts.get(\"0\" * num_output_qubits, 0) / num_shots\n",
        "                )\n",
        "                count += 1\n",
        "\n",
        "    return kernel_matrix\n",
        "\n",
        "\n",
        "def train_svm(es, train_data, train_labels):\n",
        "    \"\"\"\n",
        "    Trains an SVM model using a custom precomputed kernel from the training data.\n",
        "\n",
        "    Parameters:\n",
        "    - es: ExecutionSession object to process batch execution for kernel computation.\n",
        "    - train_data: List of data points for training.\n",
        "    - train_labels: List of binary labels corresponding to the training data.\n",
        "\n",
        "    Returns:\n",
        "    - svm_model: A trained SVM model using the precomputed kernel.\n",
        "    \"\"\"\n",
        "    train_size = len(train_data)\n",
        "    train_execution_params = get_execution_params(train_data)\n",
        "    res_train_batch = es.batch_sample(train_execution_params)  # execute batch\n",
        "    # generating kernel matrix for train\n",
        "    kernel_train = construct_kernel_matrix(\n",
        "        matrix_size=(train_size, train_size), res_batch=res_train_batch, train=True\n",
        "    )\n",
        "    svm_model = SVC(kernel=\"precomputed\")\n",
        "    svm_model.fit(\n",
        "        kernel_train, train_labels\n",
        "    )  # the fit gets the precomputed matrix of training, and the training labels\n",
        "\n",
        "    return svm_model\n",
        "\n",
        "\n",
        "def predict_svm(es, data, train_data, svm_model):\n",
        "    \"\"\"\n",
        "    Predicts labels for new data using a precomputed kernel with a trained SVM model.\n",
        "\n",
        "    Parameters:\n",
        "    - es: ExecutionSession object to process batch execution for kernel computation.\n",
        "    - data (list): List of new data points to predict.\n",
        "    - train_data (list): Original training data used to train the SVM.\n",
        "    - svm_model: A trained SVM model returned by `train_svm`.\n",
        "\n",
        "    Returns:\n",
        "    - y_predict (list): Predicted labels for the input data.\n",
        "    \"\"\"\n",
        "    predict_size = len(data)\n",
        "    train_size = len(train_data)\n",
        "    predict_execution_params = get_execution_params(data, train_data)\n",
        "    res_predict_batch = es.batch_sample(predict_execution_params)  # execute batch\n",
        "    kernel_predict = construct_kernel_matrix(\n",
        "        matrix_size=(predict_size, train_size), res_batch=res_predict_batch, train=False\n",
        "    )\n",
        "    y_predict = svm_model.predict(\n",
        "        kernel_predict\n",
        "    )  # the predict gets the precomputed test matrix\n",
        "\n",
        "    return y_predict"
      ],
      "metadata": {
        "id": "YJdcUb9K-Tod"
      },
      "execution_count": null,
      "outputs": []
    },
    {
      "cell_type": "code",
      "source": [
        "pip install qiskit qiskit-machine-learning"
      ],
      "metadata": {
        "colab": {
          "base_uri": "https://localhost:8080/"
        },
        "collapsed": true,
        "id": "WcmLwgel6mSs",
        "outputId": "4228c4af-29e9-4a28-d68c-7299b0eafcff"
      },
      "execution_count": null,
      "outputs": [
        {
          "output_type": "stream",
          "name": "stdout",
          "text": [
            "Requirement already satisfied: qiskit in /usr/local/lib/python3.11/dist-packages (1.2.4)\n",
            "Requirement already satisfied: qiskit-machine-learning in /usr/local/lib/python3.11/dist-packages (0.8.2)\n",
            "Requirement already satisfied: rustworkx>=0.15.0 in /usr/local/lib/python3.11/dist-packages (from qiskit) (0.16.0)\n",
            "Requirement already satisfied: numpy<3,>=1.17 in /usr/local/lib/python3.11/dist-packages (from qiskit) (1.26.4)\n",
            "Requirement already satisfied: scipy>=1.5 in /usr/local/lib/python3.11/dist-packages (from qiskit) (1.15.3)\n",
            "Requirement already satisfied: sympy>=1.3 in /usr/local/lib/python3.11/dist-packages (from qiskit) (1.13.1)\n",
            "Requirement already satisfied: dill>=0.3 in /usr/local/lib/python3.11/dist-packages (from qiskit) (0.4.0)\n",
            "Requirement already satisfied: python-dateutil>=2.8.0 in /usr/local/lib/python3.11/dist-packages (from qiskit) (2.9.0.post0)\n",
            "Requirement already satisfied: stevedore>=3.0.0 in /usr/local/lib/python3.11/dist-packages (from qiskit) (5.4.1)\n",
            "Requirement already satisfied: typing-extensions in /usr/local/lib/python3.11/dist-packages (from qiskit) (4.13.2)\n",
            "Requirement already satisfied: symengine<0.14,>=0.11 in /usr/local/lib/python3.11/dist-packages (from qiskit) (0.13.0)\n",
            "Requirement already satisfied: psutil>=5 in /usr/local/lib/python3.11/dist-packages (from qiskit-machine-learning) (5.9.5)\n",
            "Requirement already satisfied: scikit-learn>=1.2 in /usr/local/lib/python3.11/dist-packages (from qiskit-machine-learning) (1.6.1)\n",
            "Requirement already satisfied: setuptools>=40.1 in /usr/local/lib/python3.11/dist-packages (from qiskit-machine-learning) (75.2.0)\n",
            "Requirement already satisfied: six>=1.5 in /usr/local/lib/python3.11/dist-packages (from python-dateutil>=2.8.0->qiskit) (1.17.0)\n",
            "Requirement already satisfied: joblib>=1.2.0 in /usr/local/lib/python3.11/dist-packages (from scikit-learn>=1.2->qiskit-machine-learning) (1.5.0)\n",
            "Requirement already satisfied: threadpoolctl>=3.1.0 in /usr/local/lib/python3.11/dist-packages (from scikit-learn>=1.2->qiskit-machine-learning) (3.6.0)\n",
            "Requirement already satisfied: pbr>=2.0.0 in /usr/local/lib/python3.11/dist-packages (from stevedore>=3.0.0->qiskit) (6.1.1)\n",
            "Requirement already satisfied: mpmath<1.4,>=1.1.0 in /usr/local/lib/python3.11/dist-packages (from sympy>=1.3->qiskit) (1.3.0)\n"
          ]
        }
      ]
    },
    {
      "cell_type": "code",
      "source": [
        "from qiskit_machine_learning.kernels import FidelityQuantumKernel"
      ],
      "metadata": {
        "id": "mUTT1vZO6tWz"
      },
      "execution_count": null,
      "outputs": []
    },
    {
      "cell_type": "code",
      "source": [
        "# Creating an instance of FidelityQuantumKernel\n",
        "quantum_kernel = FidelityQuantumKernel()\n",
        "\n",
        "# Evaluating the kernel on the training data to get the kernel matrix\n",
        "K_train = quantum_kernel.evaluate(x_vec=X_train, y_vec=X_train)\n",
        "\n",
        "# Training a classical SVM using the quantum kernel\n",
        "svm = SVC(kernel='precomputed')\n",
        "\n",
        "# Passing the computed kernel matrix K_train to the fit method\n",
        "svm.fit(K_train, y_train)\n",
        "\n",
        "# Evaluating the kernel on the test data against the training data\n",
        "K_test = quantum_kernel.evaluate(x_vec=X_test, y_vec=X_train)\n",
        "\n",
        "# Make predictions on the test set\n",
        "y_pred = svm.predict(K_test)\n",
        "\n",
        "# Evaluating the model\n",
        "accuracy = accuracy_score(y_test, y_pred)\n",
        "print(f\"QSVM Test Accuracy: {accuracy * 100:.2f}%\")\n",
        "\n",
        "# Visualizing the decision boundary\n",
        "def plot_decision_boundary(model, X, y):\n",
        "    x_min, x_max = X[:, 0].min() - 0.5, X[:, 0].max() + 0.5\n",
        "    y_min, y_max = X[:, 1].min() - 0.5, X[:, 1].max() + 0.5\n",
        "    xx, yy = np.meshgrid(np.linspace(x_min, x_max, 100), np.linspace(y_min, y_max, 100))\n",
        "\n",
        "    # Evaluating the kernel for the grid points against the training data\n",
        "    Z = model.predict(quantum_kernel.evaluate(x_vec=np.c_[xx.ravel(), yy.ravel()], y_vec=X_train))\n",
        "    Z = Z.reshape(xx.shape)\n",
        "\n",
        "    plt.contourf(xx, yy, Z, alpha=0.8, cmap=plt.cm.coolwarm)\n",
        "    plt.scatter(X[:, 0], X[:, 1], c=y, edgecolors='k', marker='o')\n",
        "    plt.title('QSVM Decision Boundary')\n",
        "    plt.show()\n",
        "\n",
        "# Plotting the decision boundary\n",
        "plot_decision_boundary(svm, X_train, y_train)"
      ],
      "metadata": {
        "colab": {
          "base_uri": "https://localhost:8080/",
          "height": 469
        },
        "id": "XHkkFAWM_Es7",
        "outputId": "406316d3-5543-491c-9772-92993bf5be63"
      },
      "execution_count": null,
      "outputs": [
        {
          "output_type": "stream",
          "name": "stdout",
          "text": [
            "QSVM Test Accuracy: 100.00%\n"
          ]
        },
        {
          "output_type": "display_data",
          "data": {
            "text/plain": [
              "<Figure size 640x480 with 1 Axes>"
            ],
            "image/png": "[encoded data removed]"
          },
          "metadata": {}
        }
      ]
    }
  ]
}