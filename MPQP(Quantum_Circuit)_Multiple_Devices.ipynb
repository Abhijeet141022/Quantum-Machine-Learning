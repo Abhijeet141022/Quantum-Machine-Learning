{
  "nbformat": 4,
  "nbformat_minor": 0,
  "metadata": {
    "colab": {
      "provenance": [],
      "authorship_tag": "ABX9TyO5yLopYfvWutepDpF8ddAA",
      "include_colab_link": true
    },
    "kernelspec": {
      "name": "python3",
      "display_name": "Python 3"
    },
    "language_info": {
      "name": "python"
    }
  },
  "cells": [
    {
      "cell_type": "markdown",
      "metadata": {
        "id": "view-in-github",
        "colab_type": "text"
      },
      "source": [
        "<a href=\"https://colab.research.google.com/github/Abhijeet141022/Quantum-Machine-Learning/blob/main/MPQP(Quantum_Circuit)_Multiple_Devices.ipynb\" target=\"_parent\"><img src=\"https://colab.research.google.com/assets/colab-badge.svg\" alt=\"Open In Colab\"/></a>"
      ]
    },
    {
      "cell_type": "code",
      "execution_count": null,
      "metadata": {
        "colab": {
          "base_uri": "https://localhost:8080/"
        },
        "collapsed": true,
        "id": "EaRX32UX5JNy",
        "outputId": "bbdf8b61-02c3-4eb8-c6e7-46b350b8f538"
      },
      "outputs": [
        {
          "output_type": "stream",
          "name": "stdout",
          "text": [
            "Requirement already satisfied: mpqp in /usr/local/lib/python3.11/dist-packages (0.4.0)\n",
            "Requirement already satisfied: aenum==3.1.15 in /usr/local/lib/python3.11/dist-packages (from mpqp) (3.1.15)\n",
            "Requirement already satisfied: amazon-braket-default-simulator==1.23.2 in /usr/local/lib/python3.11/dist-packages (from mpqp) (1.23.2)\n",
            "Requirement already satisfied: amazon-braket-sdk==1.79.1 in /usr/local/lib/python3.11/dist-packages (from mpqp) (1.79.1)\n",
            "Requirement already satisfied: anytree>=2.12.1 in /usr/local/lib/python3.11/dist-packages (from mpqp) (2.13.0)\n",
            "Requirement already satisfied: aws-configure==2.1.8 in /usr/local/lib/python3.11/dist-packages (from mpqp) (2.1.8)\n",
            "Requirement already satisfied: azure-quantum==3.1.0 in /usr/local/lib/python3.11/dist-packages (from mpqp) (3.1.0)\n",
            "Requirement already satisfied: boto3==1.35.82 in /usr/local/lib/python3.11/dist-packages (from mpqp) (1.35.82)\n",
            "Requirement already satisfied: cirq-aqt==1.3.0 in /usr/local/lib/python3.11/dist-packages (from mpqp) (1.3.0)\n",
            "Requirement already satisfied: cirq-core==1.3.0 in /usr/local/lib/python3.11/dist-packages (from mpqp) (1.3.0)\n",
            "Requirement already satisfied: cirq-google==1.3.0 in /usr/local/lib/python3.11/dist-packages (from mpqp) (1.3.0)\n",
            "Requirement already satisfied: cirq-ionq==1.3.0 in /usr/local/lib/python3.11/dist-packages (from mpqp) (1.3.0)\n",
            "Requirement already satisfied: cvxpy==1.4.3 in /usr/local/lib/python3.11/dist-packages (from mpqp) (1.4.3)\n",
            "Requirement already satisfied: jsonschema>=4.17.3 in /usr/local/lib/python3.11/dist-packages (from mpqp) (4.23.0)\n",
            "Requirement already satisfied: myqlm-interop in /usr/local/lib/python3.11/dist-packages (from mpqp) (1.10.0)\n",
            "Requirement already satisfied: myqlm==1.10.6 in /usr/local/lib/python3.11/dist-packages (from mpqp) (1.10.6)\n",
            "Requirement already satisfied: numba==0.60.0 in /usr/local/lib/python3.11/dist-packages (from mpqp) (0.60.0)\n",
            "Requirement already satisfied: numpy>=1.26.4 in /usr/local/lib/python3.11/dist-packages (from mpqp) (1.26.4)\n",
            "Requirement already satisfied: osqp==1.0.1 in /usr/local/lib/python3.11/dist-packages (from mpqp) (1.0.1)\n",
            "Requirement already satisfied: pick==2.2.0 in /usr/local/lib/python3.11/dist-packages (from mpqp) (2.2.0)\n",
            "Requirement already satisfied: pylatexenc==2.10 in /usr/local/lib/python3.11/dist-packages (from mpqp) (2.10)\n",
            "Requirement already satisfied: python-dotenv>=1.0.0 in /usr/local/lib/python3.11/dist-packages (from mpqp) (1.1.0)\n",
            "Requirement already satisfied: qiskit-aer==0.15.1 in /usr/local/lib/python3.11/dist-packages (from mpqp) (0.15.1)\n",
            "Requirement already satisfied: qiskit-ibm-runtime==0.31.0 in /usr/local/lib/python3.11/dist-packages (from mpqp) (0.31.0)\n",
            "Requirement already satisfied: qiskit==1.2.4 in /usr/local/lib/python3.11/dist-packages (from mpqp) (1.2.4)\n",
            "Requirement already satisfied: qsimcirq in /usr/local/lib/python3.11/dist-packages (from mpqp) (0.21.0)\n",
            "Requirement already satisfied: scipy>=1.11.4 in /usr/local/lib/python3.11/dist-packages (from mpqp) (1.15.3)\n",
            "Requirement already satisfied: symengine>=0.11.0 in /usr/local/lib/python3.11/dist-packages (from mpqp) (0.13.0)\n",
            "Requirement already satisfied: sympy==1.13.1 in /usr/local/lib/python3.11/dist-packages (from mpqp) (1.13.1)\n",
            "Requirement already satisfied: termcolor==2.4.0 in /usr/local/lib/python3.11/dist-packages (from mpqp) (2.4.0)\n",
            "Requirement already satisfied: typeguard>=4.2.1 in /usr/local/lib/python3.11/dist-packages (from mpqp) (4.4.2)\n",
            "Requirement already satisfied: wheel in /usr/local/lib/python3.11/dist-packages (from mpqp) (0.45.1)\n",
            "Requirement already satisfied: opt-einsum in /usr/local/lib/python3.11/dist-packages (from amazon-braket-default-simulator==1.23.2->mpqp) (3.4.0)\n",
            "Requirement already satisfied: pydantic>2 in /usr/local/lib/python3.11/dist-packages (from amazon-braket-default-simulator==1.23.2->mpqp) (2.11.4)\n",
            "Requirement already satisfied: antlr4-python3-runtime==4.9.2 in /usr/local/lib/python3.11/dist-packages (from amazon-braket-default-simulator==1.23.2->mpqp) (4.9.2)\n",
            "Requirement already satisfied: amazon-braket-schemas>=1.21.2 in /usr/local/lib/python3.11/dist-packages (from amazon-braket-default-simulator==1.23.2->mpqp) (1.24.0)\n",
            "Requirement already satisfied: oqpy~=0.3.5 in /usr/local/lib/python3.11/dist-packages (from amazon-braket-sdk==1.79.1->mpqp) (0.3.7)\n",
            "Requirement already satisfied: backoff in /usr/local/lib/python3.11/dist-packages (from amazon-braket-sdk==1.79.1->mpqp) (2.2.1)\n",
            "Requirement already satisfied: boltons in /usr/local/lib/python3.11/dist-packages (from amazon-braket-sdk==1.79.1->mpqp) (25.0.0)\n",
            "Requirement already satisfied: cloudpickle==2.2.1 in /usr/local/lib/python3.11/dist-packages (from amazon-braket-sdk==1.79.1->mpqp) (2.2.1)\n",
            "Requirement already satisfied: nest-asyncio in /usr/local/lib/python3.11/dist-packages (from amazon-braket-sdk==1.79.1->mpqp) (1.6.0)\n",
            "Requirement already satisfied: networkx in /usr/local/lib/python3.11/dist-packages (from amazon-braket-sdk==1.79.1->mpqp) (3.4.2)\n",
            "Requirement already satisfied: openpulse in /usr/local/lib/python3.11/dist-packages (from amazon-braket-sdk==1.79.1->mpqp) (1.0.1)\n",
            "Requirement already satisfied: openqasm3 in /usr/local/lib/python3.11/dist-packages (from amazon-braket-sdk==1.79.1->mpqp) (1.0.1)\n",
            "Requirement already satisfied: backports.entry-points-selectable in /usr/local/lib/python3.11/dist-packages (from amazon-braket-sdk==1.79.1->mpqp) (1.3.0)\n",
            "Requirement already satisfied: awscli in /usr/local/lib/python3.11/dist-packages (from aws-configure==2.1.8->mpqp) (1.36.40)\n",
            "Requirement already satisfied: botocore in /usr/local/lib/python3.11/dist-packages (from aws-configure==2.1.8->mpqp) (1.35.99)\n",
            "Requirement already satisfied: azure-core<2.0,>=1.30 in /usr/local/lib/python3.11/dist-packages (from azure-quantum==3.1.0->mpqp) (1.34.0)\n",
            "Requirement already satisfied: azure-identity<2.0,>=1.17 in /usr/local/lib/python3.11/dist-packages (from azure-quantum==3.1.0->mpqp) (1.23.0)\n",
            "Requirement already satisfied: azure-storage-blob==12.20 in /usr/local/lib/python3.11/dist-packages (from azure-quantum==3.1.0->mpqp) (12.20.0)\n",
            "Requirement already satisfied: msrest<1.0,>=0.7.1 in /usr/local/lib/python3.11/dist-packages (from azure-quantum==3.1.0->mpqp) (0.7.1)\n",
            "Requirement already satisfied: deprecated<2.0,>=1.2.12 in /usr/local/lib/python3.11/dist-packages (from azure-quantum==3.1.0->mpqp) (1.2.18)\n",
            "Requirement already satisfied: Markdown>=3.4.1 in /usr/local/lib/python3.11/dist-packages (from azure-quantum==3.1.0->mpqp) (3.8)\n",
            "Requirement already satisfied: python-markdown-math>=0.8 in /usr/local/lib/python3.11/dist-packages (from azure-quantum==3.1.0->mpqp) (0.9)\n",
            "Requirement already satisfied: jmespath<2.0.0,>=0.7.1 in /usr/local/lib/python3.11/dist-packages (from boto3==1.35.82->mpqp) (1.0.1)\n",
            "Requirement already satisfied: s3transfer<0.11.0,>=0.10.0 in /usr/local/lib/python3.11/dist-packages (from boto3==1.35.82->mpqp) (0.10.4)\n",
            "Requirement already satisfied: requests~=2.18 in /usr/local/lib/python3.11/dist-packages (from cirq-aqt==1.3.0->mpqp) (2.32.3)\n",
            "Requirement already satisfied: duet~=0.2.8 in /usr/local/lib/python3.11/dist-packages (from cirq-core==1.3.0->mpqp) (0.2.9)\n",
            "Requirement already satisfied: matplotlib~=3.0 in /usr/local/lib/python3.11/dist-packages (from cirq-core==1.3.0->mpqp) (3.10.0)\n",
            "Requirement already satisfied: pandas in /usr/local/lib/python3.11/dist-packages (from cirq-core==1.3.0->mpqp) (2.2.2)\n",
            "Requirement already satisfied: sortedcontainers~=2.0 in /usr/local/lib/python3.11/dist-packages (from cirq-core==1.3.0->mpqp) (2.4.0)\n",
            "Requirement already satisfied: typing-extensions>=4.2 in /usr/local/lib/python3.11/dist-packages (from cirq-core==1.3.0->mpqp) (4.13.2)\n",
            "Requirement already satisfied: tqdm in /usr/local/lib/python3.11/dist-packages (from cirq-core==1.3.0->mpqp) (4.67.1)\n",
            "Requirement already satisfied: google-api-core>=1.14.0 in /usr/local/lib/python3.11/dist-packages (from google-api-core[grpc]>=1.14.0->cirq-google==1.3.0->mpqp) (2.24.2)\n",
            "Requirement already satisfied: proto-plus>=1.20.0 in /usr/local/lib/python3.11/dist-packages (from cirq-google==1.3.0->mpqp) (1.26.1)\n",
            "Requirement already satisfied: protobuf>=3.15.0 in /usr/local/lib/python3.11/dist-packages (from cirq-google==1.3.0->mpqp) (5.29.4)\n",
            "Requirement already satisfied: ecos>=2 in /usr/local/lib/python3.11/dist-packages (from cvxpy==1.4.3->mpqp) (2.0.14)\n",
            "Requirement already satisfied: clarabel>=0.5.0 in /usr/local/lib/python3.11/dist-packages (from cvxpy==1.4.3->mpqp) (0.10.0)\n",
            "Requirement already satisfied: scs>=3.0 in /usr/local/lib/python3.11/dist-packages (from cvxpy==1.4.3->mpqp) (3.2.7.post2)\n",
            "Requirement already satisfied: pybind11 in /usr/local/lib/python3.11/dist-packages (from cvxpy==1.4.3->mpqp) (2.13.6)\n",
            "Requirement already satisfied: qat-comm==1.6.1 in /usr/local/lib/python3.11/dist-packages (from myqlm==1.10.6->mpqp) (1.6.1)\n",
            "Requirement already satisfied: qat-core==1.10.0 in /usr/local/lib/python3.11/dist-packages (from myqlm==1.10.6->mpqp) (1.10.0)\n",
            "Requirement already satisfied: qat-devices==0.3.0 in /usr/local/lib/python3.11/dist-packages (from myqlm==1.10.6->mpqp) (0.3.0)\n",
            "Requirement already satisfied: qat-fusion==0.1.0 in /usr/local/lib/python3.11/dist-packages (from myqlm==1.10.6->mpqp) (0.1.0)\n",
            "Requirement already satisfied: qat-lang==3.1.0 in /usr/local/lib/python3.11/dist-packages (from myqlm==1.10.6->mpqp) (3.1.0)\n",
            "Requirement already satisfied: qat-anapli==0.0.1 in /usr/local/lib/python3.11/dist-packages (from myqlm==1.10.6->mpqp) (0.0.1)\n",
            "Requirement already satisfied: qat-variational==1.5.0 in /usr/local/lib/python3.11/dist-packages (from myqlm==1.10.6->mpqp) (1.5.0)\n",
            "Requirement already satisfied: qlmaas==1.10.2 in /usr/local/lib/python3.11/dist-packages (from myqlm==1.10.6->mpqp) (1.10.2)\n",
            "Requirement already satisfied: myqlm-clinalg==0.2.4 in /usr/local/lib/python3.11/dist-packages (from myqlm==1.10.6->mpqp) (0.2.4)\n",
            "Requirement already satisfied: myqlm-contrib==1.9.5 in /usr/local/lib/python3.11/dist-packages (from myqlm==1.10.6->mpqp) (1.9.5)\n",
            "Requirement already satisfied: myqlm-fermion==1.1.4 in /usr/local/lib/python3.11/dist-packages (from myqlm==1.10.6->mpqp) (1.1.4)\n",
            "Requirement already satisfied: myqlm-simulators==1.9.5 in /usr/local/lib/python3.11/dist-packages (from myqlm==1.10.6->mpqp) (1.9.5)\n",
            "Requirement already satisfied: llvmlite<0.44,>=0.43.0dev0 in /usr/local/lib/python3.11/dist-packages (from numba==0.60.0->mpqp) (0.43.0)\n",
            "Requirement already satisfied: jinja2 in /usr/local/lib/python3.11/dist-packages (from osqp==1.0.1->mpqp) (3.1.6)\n",
            "Requirement already satisfied: setuptools in /usr/local/lib/python3.11/dist-packages (from osqp==1.0.1->mpqp) (75.2.0)\n",
            "Requirement already satisfied: joblib in /usr/local/lib/python3.11/dist-packages (from osqp==1.0.1->mpqp) (1.5.0)\n",
            "Requirement already satisfied: rustworkx>=0.15.0 in /usr/local/lib/python3.11/dist-packages (from qiskit==1.2.4->mpqp) (0.16.0)\n",
            "Requirement already satisfied: dill>=0.3 in /usr/local/lib/python3.11/dist-packages (from qiskit==1.2.4->mpqp) (0.3.7)\n",
            "Requirement already satisfied: python-dateutil>=2.8.0 in /usr/local/lib/python3.11/dist-packages (from qiskit==1.2.4->mpqp) (2.9.0.post0)\n",
            "Requirement already satisfied: stevedore>=3.0.0 in /usr/local/lib/python3.11/dist-packages (from qiskit==1.2.4->mpqp) (5.4.1)\n",
            "Requirement already satisfied: psutil>=5 in /usr/local/lib/python3.11/dist-packages (from qiskit-aer==0.15.1->mpqp) (5.9.5)\n",
            "Requirement already satisfied: requests-ntlm>=1.1.0 in /usr/local/lib/python3.11/dist-packages (from qiskit-ibm-runtime==0.31.0->mpqp) (1.3.0)\n",
            "Requirement already satisfied: urllib3>=1.21.1 in /usr/local/lib/python3.11/dist-packages (from qiskit-ibm-runtime==0.31.0->mpqp) (2.4.0)\n",
            "Requirement already satisfied: websocket-client>=1.5.1 in /usr/local/lib/python3.11/dist-packages (from qiskit-ibm-runtime==0.31.0->mpqp) (1.8.0)\n",
            "Requirement already satisfied: ibm-platform-services>=0.22.6 in /usr/local/lib/python3.11/dist-packages (from qiskit-ibm-runtime==0.31.0->mpqp) (0.65.0)\n",
            "Requirement already satisfied: mpmath<1.4,>=1.1.0 in /usr/local/lib/python3.11/dist-packages (from sympy==1.13.1->mpqp) (1.3.0)\n",
            "Requirement already satisfied: cryptography>=2.1.4 in /usr/local/lib/python3.11/dist-packages (from azure-storage-blob==12.20->azure-quantum==3.1.0->mpqp) (43.0.3)\n",
            "Requirement already satisfied: isodate>=0.6.1 in /usr/local/lib/python3.11/dist-packages (from azure-storage-blob==12.20->azure-quantum==3.1.0->mpqp) (0.7.2)\n",
            "Requirement already satisfied: bitstring in /usr/local/lib/python3.11/dist-packages (from myqlm-fermion==1.1.4->myqlm==1.10.6->mpqp) (4.3.1)\n",
            "Requirement already satisfied: thrift==0.20.0 in /usr/local/lib/python3.11/dist-packages (from qat-comm==1.6.1->myqlm==1.10.6->mpqp) (0.20.0)\n",
            "Requirement already satisfied: wand in /usr/local/lib/python3.11/dist-packages (from qat-core==1.10.0->myqlm==1.10.6->mpqp) (0.6.13)\n",
            "Requirement already satisfied: Pillow in /usr/local/lib/python3.11/dist-packages (from qat-core==1.10.0->myqlm==1.10.6->mpqp) (11.2.1)\n",
            "Requirement already satisfied: svgwrite in /usr/local/lib/python3.11/dist-packages (from qat-core==1.10.0->myqlm==1.10.6->mpqp) (1.4.3)\n",
            "Requirement already satisfied: jax[cpu] in /usr/local/lib/python3.11/dist-packages (from qat-core==1.10.0->myqlm==1.10.6->mpqp) (0.5.2)\n",
            "Requirement already satisfied: IPython in /usr/local/lib/python3.11/dist-packages (from qat-core==1.10.0->myqlm==1.10.6->mpqp) (7.34.0)\n",
            "Requirement already satisfied: ply==3.11 in /usr/local/lib/python3.11/dist-packages (from qat-lang==3.1.0->myqlm==1.10.6->mpqp) (3.11)\n",
            "Requirement already satisfied: prompt-toolkit in /usr/local/lib/python3.11/dist-packages (from qlmaas==1.10.2->myqlm==1.10.6->mpqp) (3.0.51)\n",
            "Requirement already satisfied: prettytable in /usr/local/lib/python3.11/dist-packages (from qlmaas==1.10.2->myqlm==1.10.6->mpqp) (3.16.0)\n",
            "Requirement already satisfied: pyOpenSSL in /usr/local/lib/python3.11/dist-packages (from qlmaas==1.10.2->myqlm==1.10.6->mpqp) (24.2.1)\n",
            "Requirement already satisfied: cffi in /usr/local/lib/python3.11/dist-packages (from qlmaas==1.10.2->myqlm==1.10.6->mpqp) (1.17.1)\n",
            "Requirement already satisfied: qat-hardware>=1.4.0 in /usr/local/lib/python3.11/dist-packages (from qlmaas==1.10.2->myqlm==1.10.6->mpqp) (1.5.0)\n",
            "Requirement already satisfied: qat-quops>=1.3.4 in /usr/local/lib/python3.11/dist-packages (from qlmaas==1.10.2->myqlm==1.10.6->mpqp) (1.4.0)\n",
            "Requirement already satisfied: packaging in /usr/local/lib/python3.11/dist-packages (from qlmaas==1.10.2->myqlm==1.10.6->mpqp) (24.2)\n",
            "Requirement already satisfied: six>=1.7.2 in /usr/local/lib/python3.11/dist-packages (from thrift==0.20.0->qat-comm==1.6.1->myqlm==1.10.6->mpqp) (1.17.0)\n",
            "Requirement already satisfied: attrs>=22.2.0 in /usr/local/lib/python3.11/dist-packages (from jsonschema>=4.17.3->mpqp) (25.3.0)\n",
            "Requirement already satisfied: jsonschema-specifications>=2023.03.6 in /usr/local/lib/python3.11/dist-packages (from jsonschema>=4.17.3->mpqp) (2025.4.1)\n",
            "Requirement already satisfied: referencing>=0.28.4 in /usr/local/lib/python3.11/dist-packages (from jsonschema>=4.17.3->mpqp) (0.36.2)\n",
            "Requirement already satisfied: rpds-py>=0.7.1 in /usr/local/lib/python3.11/dist-packages (from jsonschema>=4.17.3->mpqp) (0.24.0)\n",
            "Requirement already satisfied: qiskit-ionq<0.6,>=0.5 in /usr/local/lib/python3.11/dist-packages (from azure-quantum[qiskit]->mpqp) (0.5.13)\n",
            "Requirement already satisfied: qsharp<2.0,>=1.9.0 in /usr/local/lib/python3.11/dist-packages (from qsharp[qiskit]<2.0,>=1.9.0; extra == \"qiskit\"->azure-quantum[qiskit]->mpqp) (1.16.0)\n",
            "Requirement already satisfied: pyqir<0.11,>=0.10.6 in /usr/local/lib/python3.11/dist-packages (from azure-quantum[qiskit]->mpqp) (0.10.9)\n",
            "Requirement already satisfied: absl-py in /usr/local/lib/python3.11/dist-packages (from qsimcirq->mpqp) (1.4.0)\n",
            "Requirement already satisfied: msal>=1.30.0 in /usr/local/lib/python3.11/dist-packages (from azure-identity<2.0,>=1.17->azure-quantum==3.1.0->mpqp) (1.32.3)\n",
            "Requirement already satisfied: msal-extensions>=1.2.0 in /usr/local/lib/python3.11/dist-packages (from azure-identity<2.0,>=1.17->azure-quantum==3.1.0->mpqp) (1.3.1)\n",
            "Requirement already satisfied: wrapt<2,>=1.10 in /usr/local/lib/python3.11/dist-packages (from deprecated<2.0,>=1.2.12->azure-quantum==3.1.0->mpqp) (1.17.2)\n",
            "Requirement already satisfied: googleapis-common-protos<2.0.0,>=1.56.2 in /usr/local/lib/python3.11/dist-packages (from google-api-core>=1.14.0->google-api-core[grpc]>=1.14.0->cirq-google==1.3.0->mpqp) (1.70.0)\n",
            "Requirement already satisfied: google-auth<3.0.0,>=2.14.1 in /usr/local/lib/python3.11/dist-packages (from google-api-core>=1.14.0->google-api-core[grpc]>=1.14.0->cirq-google==1.3.0->mpqp) (2.38.0)\n",
            "Requirement already satisfied: grpcio<2.0dev,>=1.33.2 in /usr/local/lib/python3.11/dist-packages (from google-api-core[grpc]>=1.14.0->cirq-google==1.3.0->mpqp) (1.71.0)\n",
            "Requirement already satisfied: grpcio-status<2.0.dev0,>=1.33.2 in /usr/local/lib/python3.11/dist-packages (from google-api-core[grpc]>=1.14.0->cirq-google==1.3.0->mpqp) (1.71.0)\n",
            "Requirement already satisfied: ibm_cloud_sdk_core<4.0.0,>=3.22.1 in /usr/local/lib/python3.11/dist-packages (from ibm-platform-services>=0.22.6->qiskit-ibm-runtime==0.31.0->mpqp) (3.23.0)\n",
            "Requirement already satisfied: contourpy>=1.0.1 in /usr/local/lib/python3.11/dist-packages (from matplotlib~=3.0->cirq-core==1.3.0->mpqp) (1.3.2)\n",
            "Requirement already satisfied: cycler>=0.10 in /usr/local/lib/python3.11/dist-packages (from matplotlib~=3.0->cirq-core==1.3.0->mpqp) (0.12.1)\n",
            "Requirement already satisfied: fonttools>=4.22.0 in /usr/local/lib/python3.11/dist-packages (from matplotlib~=3.0->cirq-core==1.3.0->mpqp) (4.58.0)\n",
            "Requirement already satisfied: kiwisolver>=1.3.1 in /usr/local/lib/python3.11/dist-packages (from matplotlib~=3.0->cirq-core==1.3.0->mpqp) (1.4.8)\n",
            "Requirement already satisfied: pyparsing>=2.3.1 in /usr/local/lib/python3.11/dist-packages (from matplotlib~=3.0->cirq-core==1.3.0->mpqp) (3.2.3)\n",
            "Requirement already satisfied: certifi>=2017.4.17 in /usr/local/lib/python3.11/dist-packages (from msrest<1.0,>=0.7.1->azure-quantum==3.1.0->mpqp) (2025.4.26)\n",
            "Requirement already satisfied: requests-oauthlib>=0.5.0 in /usr/local/lib/python3.11/dist-packages (from msrest<1.0,>=0.7.1->azure-quantum==3.1.0->mpqp) (2.0.0)\n",
            "Requirement already satisfied: mypy-extensions>=0.2.0 in /usr/local/lib/python3.11/dist-packages (from oqpy~=0.3.5->amazon-braket-sdk==1.79.1->mpqp) (1.1.0)\n",
            "Requirement already satisfied: annotated-types>=0.6.0 in /usr/local/lib/python3.11/dist-packages (from pydantic>2->amazon-braket-default-simulator==1.23.2->mpqp) (0.7.0)\n",
            "Requirement already satisfied: pydantic-core==2.33.2 in /usr/local/lib/python3.11/dist-packages (from pydantic>2->amazon-braket-default-simulator==1.23.2->mpqp) (2.33.2)\n",
            "Requirement already satisfied: typing-inspection>=0.4.0 in /usr/local/lib/python3.11/dist-packages (from pydantic>2->amazon-braket-default-simulator==1.23.2->mpqp) (0.4.0)\n",
            "Requirement already satisfied: decorator>=5.1.0 in /usr/local/lib/python3.11/dist-packages (from qiskit-ionq<0.6,>=0.5->azure-quantum[qiskit]->mpqp) (5.2.1)\n",
            "Requirement already satisfied: importlib-metadata>=4.11.4 in /usr/local/lib/python3.11/dist-packages (from qiskit-ionq<0.6,>=0.5->azure-quantum[qiskit]->mpqp) (8.7.0)\n",
            "Requirement already satisfied: charset-normalizer<4,>=2 in /usr/local/lib/python3.11/dist-packages (from requests~=2.18->cirq-aqt==1.3.0->mpqp) (3.4.2)\n",
            "Requirement already satisfied: idna<4,>=2.5 in /usr/local/lib/python3.11/dist-packages (from requests~=2.18->cirq-aqt==1.3.0->mpqp) (3.10)\n",
            "Requirement already satisfied: pyspnego>=0.4.0 in /usr/local/lib/python3.11/dist-packages (from requests-ntlm>=1.1.0->qiskit-ibm-runtime==0.31.0->mpqp) (0.11.2)\n",
            "Requirement already satisfied: pbr>=2.0.0 in /usr/local/lib/python3.11/dist-packages (from stevedore>=3.0.0->qiskit==1.2.4->mpqp) (6.1.1)\n",
            "Requirement already satisfied: docutils<0.17,>=0.10 in /usr/local/lib/python3.11/dist-packages (from awscli->aws-configure==2.1.8->mpqp) (0.16)\n",
            "Requirement already satisfied: PyYAML<6.1,>=3.10 in /usr/local/lib/python3.11/dist-packages (from awscli->aws-configure==2.1.8->mpqp) (6.0.2)\n",
            "Requirement already satisfied: colorama<0.4.7,>=0.2.5 in /usr/local/lib/python3.11/dist-packages (from awscli->aws-configure==2.1.8->mpqp) (0.4.6)\n",
            "Requirement already satisfied: rsa<4.8,>=3.1.2 in /usr/local/lib/python3.11/dist-packages (from awscli->aws-configure==2.1.8->mpqp) (4.7.2)\n",
            "Requirement already satisfied: MarkupSafe>=2.0 in /usr/local/lib/python3.11/dist-packages (from jinja2->osqp==1.0.1->mpqp) (3.0.2)\n",
            "Requirement already satisfied: pytz>=2020.1 in /usr/local/lib/python3.11/dist-packages (from pandas->cirq-core==1.3.0->mpqp) (2025.2)\n",
            "Requirement already satisfied: tzdata>=2022.7 in /usr/local/lib/python3.11/dist-packages (from pandas->cirq-core==1.3.0->mpqp) (2025.2)\n",
            "Requirement already satisfied: pycparser in /usr/local/lib/python3.11/dist-packages (from cffi->qlmaas==1.10.2->myqlm==1.10.6->mpqp) (2.22)\n",
            "Requirement already satisfied: cachetools<6.0,>=2.0.0 in /usr/local/lib/python3.11/dist-packages (from google-auth<3.0.0,>=2.14.1->google-api-core>=1.14.0->google-api-core[grpc]>=1.14.0->cirq-google==1.3.0->mpqp) (5.5.2)\n",
            "Requirement already satisfied: pyasn1-modules>=0.2.1 in /usr/local/lib/python3.11/dist-packages (from google-auth<3.0.0,>=2.14.1->google-api-core>=1.14.0->google-api-core[grpc]>=1.14.0->cirq-google==1.3.0->mpqp) (0.4.2)\n",
            "Requirement already satisfied: PyJWT<3.0.0,>=2.8.0 in /usr/local/lib/python3.11/dist-packages (from ibm_cloud_sdk_core<4.0.0,>=3.22.1->ibm-platform-services>=0.22.6->qiskit-ibm-runtime==0.31.0->mpqp) (2.10.1)\n",
            "Requirement already satisfied: zipp>=3.20 in /usr/local/lib/python3.11/dist-packages (from importlib-metadata>=4.11.4->qiskit-ionq<0.6,>=0.5->azure-quantum[qiskit]->mpqp) (3.21.0)\n",
            "Requirement already satisfied: qutip in /usr/local/lib/python3.11/dist-packages (from qat-hardware>=1.4.0->qlmaas==1.10.2->myqlm==1.10.6->mpqp) (5.1.1)\n",
            "Requirement already satisfied: oauthlib>=3.0.0 in /usr/local/lib/python3.11/dist-packages (from requests-oauthlib>=0.5.0->msrest<1.0,>=0.7.1->azure-quantum==3.1.0->mpqp) (3.2.2)\n",
            "Requirement already satisfied: pyasn1>=0.1.3 in /usr/local/lib/python3.11/dist-packages (from rsa<4.8,>=3.1.2->awscli->aws-configure==2.1.8->mpqp) (0.6.1)\n",
            "Requirement already satisfied: bitarray<4.0,>=3.0.0 in /usr/local/lib/python3.11/dist-packages (from bitstring->myqlm-fermion==1.1.4->myqlm==1.10.6->mpqp) (3.4.1)\n",
            "Requirement already satisfied: jedi>=0.16 in /usr/local/lib/python3.11/dist-packages (from IPython->qat-core==1.10.0->myqlm==1.10.6->mpqp) (0.19.2)\n",
            "Requirement already satisfied: pickleshare in /usr/local/lib/python3.11/dist-packages (from IPython->qat-core==1.10.0->myqlm==1.10.6->mpqp) (0.7.5)\n",
            "Requirement already satisfied: traitlets>=4.2 in /usr/local/lib/python3.11/dist-packages (from IPython->qat-core==1.10.0->myqlm==1.10.6->mpqp) (5.7.1)\n",
            "Requirement already satisfied: pygments in /usr/local/lib/python3.11/dist-packages (from IPython->qat-core==1.10.0->myqlm==1.10.6->mpqp) (2.19.1)\n",
            "Requirement already satisfied: backcall in /usr/local/lib/python3.11/dist-packages (from IPython->qat-core==1.10.0->myqlm==1.10.6->mpqp) (0.2.0)\n",
            "Requirement already satisfied: matplotlib-inline in /usr/local/lib/python3.11/dist-packages (from IPython->qat-core==1.10.0->myqlm==1.10.6->mpqp) (0.1.7)\n",
            "Requirement already satisfied: pexpect>4.3 in /usr/local/lib/python3.11/dist-packages (from IPython->qat-core==1.10.0->myqlm==1.10.6->mpqp) (4.9.0)\n",
            "Requirement already satisfied: wcwidth in /usr/local/lib/python3.11/dist-packages (from prompt-toolkit->qlmaas==1.10.2->myqlm==1.10.6->mpqp) (0.2.13)\n",
            "Requirement already satisfied: jaxlib<=0.5.2,>=0.5.1 in /usr/local/lib/python3.11/dist-packages (from jax[cpu]->qat-core==1.10.0->myqlm==1.10.6->mpqp) (0.5.1)\n",
            "Requirement already satisfied: ml_dtypes>=0.4.0 in /usr/local/lib/python3.11/dist-packages (from jax[cpu]->qat-core==1.10.0->myqlm==1.10.6->mpqp) (0.4.1)\n",
            "Requirement already satisfied: parso<0.9.0,>=0.8.4 in /usr/local/lib/python3.11/dist-packages (from jedi>=0.16->IPython->qat-core==1.10.0->myqlm==1.10.6->mpqp) (0.8.4)\n",
            "Requirement already satisfied: ptyprocess>=0.5 in /usr/local/lib/python3.11/dist-packages (from pexpect>4.3->IPython->qat-core==1.10.0->myqlm==1.10.6->mpqp) (0.7.0)\n"
          ]
        }
      ],
      "source": [
        "pip install mpqp"
      ]
    },
    {
      "cell_type": "code",
      "source": [
        "from mpqp import QCircuit"
      ],
      "metadata": {
        "id": "GmHKig9M6uQP"
      },
      "execution_count": null,
      "outputs": []
    },
    {
      "cell_type": "code",
      "source": [
        "from sympy import symbols\n",
        "import numpy as np"
      ],
      "metadata": {
        "id": "4ZDAZktRPlmV"
      },
      "execution_count": null,
      "outputs": []
    },
    {
      "cell_type": "code",
      "source": [
        "from mpqp import QCircuit\n",
        "from mpqp.gates import X, CNOT, T, CZ, H, Ry, CRk, Rx, Rk, S, Y, Z\n",
        "from mpqp.measures import BasisMeasure\n",
        "from mpqp.noise import Depolarizing\n",
        "from mpqp import Barrier"
      ],
      "metadata": {
        "id": "YtLrhQQHCUyw"
      },
      "execution_count": null,
      "outputs": []
    },
    {
      "cell_type": "code",
      "source": [
        "from mpqp.execution import run, IBMDevice\n",
        "circuit = QCircuit([X(0), CNOT(0, 1), CZ(1, 2), BasisMeasure([0, 1, 2], shots=100)])\n",
        "print(circuit)\n",
        "print(run(circuit, IBMDevice.AER_SIMULATOR))"
      ],
      "metadata": {
        "colab": {
          "base_uri": "https://localhost:8080/"
        },
        "id": "uX3CLZJwusNF",
        "outputId": "9d976d9e-cc7e-44e6-feab-54036ffc5fb4"
      },
      "execution_count": null,
      "outputs": [
        {
          "output_type": "stream",
          "name": "stdout",
          "text": [
            "     ┌───┐        ┌─┐      \n",
            "q_0: ┤ X ├──■─────┤M├──────\n",
            "     └───┘┌─┴─┐   └╥┘┌─┐   \n",
            "q_1: ─────┤ X ├─■──╫─┤M├───\n",
            "          └───┘ │  ║ └╥┘┌─┐\n",
            "q_2: ───────────■──╫──╫─┤M├\n",
            "                   ║  ║ └╥┘\n",
            "c: 3/══════════════╩══╩══╩═\n",
            "                   0  1  2 \n",
            "Result: IBMDevice, AER_SIMULATOR\n",
            "  Counts: [0, 0, 0, 0, 0, 0, 100, 0]\n",
            "  Probabilities: [0, 0, 0, 0, 0, 0, 1, 0]\n",
            "  Samples:\n",
            "    State: 110, Index: 6, Count: 100, Probability: 1\n",
            "  Error: None\n"
          ]
        }
      ]
    },
    {
      "cell_type": "code",
      "source": [
        "from mpqp.execution import run, ATOSDevice\n",
        "circuit = QCircuit([X(0), CNOT(0, 1), CZ(1, 2), BasisMeasure([0, 1, 2], shots=100)])\n",
        "print(circuit)\n",
        "print(run(circuit, ATOSDevice.MYQLM_PYLINALG))"
      ],
      "metadata": {
        "colab": {
          "base_uri": "https://localhost:8080/"
        },
        "id": "2U-d8dVRbjBA",
        "outputId": "9c55caa6-d66b-44d9-fc62-25cd930da739"
      },
      "execution_count": null,
      "outputs": [
        {
          "output_type": "stream",
          "name": "stdout",
          "text": [
            "     ┌───┐        ┌─┐      \n",
            "q_0: ┤ X ├──■─────┤M├──────\n",
            "     └───┘┌─┴─┐   └╥┘┌─┐   \n",
            "q_1: ─────┤ X ├─■──╫─┤M├───\n",
            "          └───┘ │  ║ └╥┘┌─┐\n",
            "q_2: ───────────■──╫──╫─┤M├\n",
            "                   ║  ║ └╥┘\n",
            "c: 3/══════════════╩══╩══╩═\n",
            "                   0  1  2 \n",
            "Result: ATOSDevice, MYQLM_PYLINALG\n",
            "  Counts: [0, 0, 0, 0, 0, 0, 100, 0]\n",
            "  Probabilities: [0, 0, 0, 0, 0, 0, 1, 0]\n",
            "  Samples:\n",
            "    State: 110, Index: 6, Count: 100, Probability: 1\n",
            "  Error: 0.0\n"
          ]
        }
      ]
    },
    {
      "cell_type": "code",
      "source": [
        "from mpqp.execution import run, AWSDevice\n",
        "circuit = QCircuit([X(0), CNOT(0, 1), CZ(1, 2), BasisMeasure([0, 1, 2], shots=100)])\n",
        "print(circuit)\n",
        "print(run(circuit, AWSDevice.BRAKET_LOCAL_SIMULATOR))"
      ],
      "metadata": {
        "colab": {
          "base_uri": "https://localhost:8080/"
        },
        "id": "xHIJMO2wdh4h",
        "outputId": "f0d6637b-1d47-4e48-98a7-c62d5b2484da"
      },
      "execution_count": null,
      "outputs": [
        {
          "output_type": "stream",
          "name": "stderr",
          "text": [
            "WARNING:braket.default_simulator.openqasm.interpreter:This program uses OpenQASM language features that may not be supported on QPUs or on-demand simulators.\n"
          ]
        },
        {
          "output_type": "stream",
          "name": "stdout",
          "text": [
            "     ┌───┐        ┌─┐      \n",
            "q_0: ┤ X ├──■─────┤M├──────\n",
            "     └───┘┌─┴─┐   └╥┘┌─┐   \n",
            "q_1: ─────┤ X ├─■──╫─┤M├───\n",
            "          └───┘ │  ║ └╥┘┌─┐\n",
            "q_2: ───────────■──╫──╫─┤M├\n",
            "                   ║  ║ └╥┘\n",
            "c: 3/══════════════╩══╩══╩═\n",
            "                   0  1  2 \n",
            "Result: AWSDevice, BRAKET_LOCAL_SIMULATOR\n",
            "  Counts: [0, 0, 0, 0, 0, 0, 100, 0]\n",
            "  Probabilities: [0, 0, 0, 0, 0, 0, 1, 0]\n",
            "  Samples:\n",
            "    State: 110, Index: 6, Count: 100, Probability: 1\n",
            "  Error: None\n"
          ]
        },
        {
          "output_type": "stream",
          "name": "stderr",
          "text": [
            "/usr/local/lib/python3.11/dist-packages/mpqp/qasm/qasm_to_braket.py:137: UnsupportedBraketFeaturesWarning: \n",
            "This program uses OpenQASM language features that may not be supported on QPUs or on-demand simulators.\n",
            "  warnings.warn(\n"
          ]
        }
      ]
    },
    {
      "cell_type": "code",
      "source": [
        "from mpqp.execution import run, GOOGLEDevice\n",
        "circuit = QCircuit([X(0), CNOT(0, 1), CZ(1, 2), BasisMeasure([0, 1, 2], shots=100)])\n",
        "print(circuit)\n",
        "print(run(circuit, GOOGLEDevice.PROCESSOR_WEBER))"
      ],
      "metadata": {
        "colab": {
          "base_uri": "https://localhost:8080/"
        },
        "id": "jku25tkKep3R",
        "outputId": "dcc490c9-4fa7-4e28-b2af-336c29cc3406"
      },
      "execution_count": null,
      "outputs": [
        {
          "output_type": "stream",
          "name": "stdout",
          "text": [
            "     ┌───┐        ┌─┐      \n",
            "q_0: ┤ X ├──■─────┤M├──────\n",
            "     └───┘┌─┴─┐   └╥┘┌─┐   \n",
            "q_1: ─────┤ X ├─■──╫─┤M├───\n",
            "          └───┘ │  ║ └╥┘┌─┐\n",
            "q_2: ───────────■──╫──╫─┤M├\n",
            "                   ║  ║ └╥┘\n",
            "c: 3/══════════════╩══╩══╩═\n",
            "                   0  1  2 \n",
            "Result: GOOGLEDevice, PROCESSOR_WEBER\n",
            "  Counts: [0, 0, 0, 0, 0, 0, 100, 0]\n",
            "  Probabilities: [0, 0, 0, 0, 0, 0, 1, 0]\n",
            "  Samples:\n",
            "    State: 110, Index: 6, Count: 100, Probability: 1\n",
            "  Error: None\n"
          ]
        }
      ]
    },
    {
      "cell_type": "code",
      "source": [
        "from mpqp.execution import run, IBMDevice\n",
        "circuit = QCircuit([X(0), CNOT(0, 1), CZ(1, 2), BasisMeasure([0, 1, 2], shots=100)])\n",
        "print(circuit)\n",
        "print(run(circuit, IBMDevice.AER_SIMULATOR_STATEVECTOR))"
      ],
      "metadata": {
        "colab": {
          "base_uri": "https://localhost:8080/"
        },
        "id": "ktl3-x4Sp7AK",
        "outputId": "39ca9461-f371-4346-d29d-6467a89d2cc6"
      },
      "execution_count": null,
      "outputs": [
        {
          "output_type": "stream",
          "name": "stdout",
          "text": [
            "     ┌───┐        ┌─┐      \n",
            "q_0: ┤ X ├──■─────┤M├──────\n",
            "     └───┘┌─┴─┐   └╥┘┌─┐   \n",
            "q_1: ─────┤ X ├─■──╫─┤M├───\n",
            "          └───┘ │  ║ └╥┘┌─┐\n",
            "q_2: ───────────■──╫──╫─┤M├\n",
            "                   ║  ║ └╥┘\n",
            "c: 3/══════════════╩══╩══╩═\n",
            "                   0  1  2 \n",
            "Result: IBMDevice, AER_SIMULATOR_STATEVECTOR\n",
            "  Counts: [0, 0, 0, 0, 0, 0, 100, 0]\n",
            "  Probabilities: [0, 0, 0, 0, 0, 0, 1, 0]\n",
            "  Samples:\n",
            "    State: 110, Index: 6, Count: 100, Probability: 1\n",
            "  Error: None\n"
          ]
        }
      ]
    },
    {
      "cell_type": "code",
      "source": [
        "from mpqp.execution import run, ATOSDevice\n",
        "circuit = QCircuit([X(0), CNOT(0, 1), CZ(1, 2), BasisMeasure([0, 1, 2], shots=100)])\n",
        "print(circuit)\n",
        "print(run(circuit, ATOSDevice.MYQLM_CLINALG))"
      ],
      "metadata": {
        "colab": {
          "base_uri": "https://localhost:8080/"
        },
        "id": "NetMoTY2gjnj",
        "outputId": "50a4ba4a-2a28-4646-cc72-fabf4e77603f"
      },
      "execution_count": null,
      "outputs": [
        {
          "output_type": "stream",
          "name": "stdout",
          "text": [
            "     ┌───┐        ┌─┐      \n",
            "q_0: ┤ X ├──■─────┤M├──────\n",
            "     └───┘┌─┴─┐   └╥┘┌─┐   \n",
            "q_1: ─────┤ X ├─■──╫─┤M├───\n",
            "          └───┘ │  ║ └╥┘┌─┐\n",
            "q_2: ───────────■──╫──╫─┤M├\n",
            "                   ║  ║ └╥┘\n",
            "c: 3/══════════════╩══╩══╩═\n",
            "                   0  1  2 \n",
            "Result: ATOSDevice, MYQLM_CLINALG\n",
            "  Counts: [0, 0, 0, 0, 0, 0, 100, 0]\n",
            "  Probabilities: [0, 0, 0, 0, 0, 0, 1, 0]\n",
            "  Samples:\n",
            "    State: 110, Index: 6, Count: 100, Probability: 1\n",
            "  Error: 0.0\n"
          ]
        }
      ]
    },
    {
      "cell_type": "code",
      "source": [
        "from mpqp.execution import run, GOOGLEDevice\n",
        "circuit = QCircuit([X(0), CNOT(0, 1), CZ(1, 2), BasisMeasure([0, 1, 2], shots=100)])\n",
        "print(circuit)\n",
        "print(run(circuit, GOOGLEDevice.CIRQ_LOCAL_SIMULATOR))"
      ],
      "metadata": {
        "colab": {
          "base_uri": "https://localhost:8080/"
        },
        "id": "0AORVTu-rDXu",
        "outputId": "36ca0aaa-13eb-406e-9d31-8e880be8f289"
      },
      "execution_count": null,
      "outputs": [
        {
          "output_type": "stream",
          "name": "stdout",
          "text": [
            "     ┌───┐        ┌─┐      \n",
            "q_0: ┤ X ├──■─────┤M├──────\n",
            "     └───┘┌─┴─┐   └╥┘┌─┐   \n",
            "q_1: ─────┤ X ├─■──╫─┤M├───\n",
            "          └───┘ │  ║ └╥┘┌─┐\n",
            "q_2: ───────────■──╫──╫─┤M├\n",
            "                   ║  ║ └╥┘\n",
            "c: 3/══════════════╩══╩══╩═\n",
            "                   0  1  2 \n",
            "Result: GOOGLEDevice, CIRQ_LOCAL_SIMULATOR\n",
            "  Counts: [0, 0, 0, 0, 0, 0, 100, 0]\n",
            "  Probabilities: [0, 0, 0, 0, 0, 0, 1, 0]\n",
            "  Samples:\n",
            "    State: 110, Index: 6, Count: 100, Probability: 1\n",
            "  Error: None\n"
          ]
        }
      ]
    },
    {
      "cell_type": "code",
      "source": [
        "from mpqp.execution import run, GOOGLEDevice\n",
        "circuit = QCircuit([X(0), CNOT(0, 1), CZ(1, 2), BasisMeasure([0, 1, 2], shots=100)])\n",
        "print(circuit)\n",
        "print(run(circuit, GOOGLEDevice.PROCESSOR_RAINBOW))"
      ],
      "metadata": {
        "colab": {
          "base_uri": "https://localhost:8080/"
        },
        "id": "ocfU2-A1rbF7",
        "outputId": "ba00008c-b651-4f33-9aeb-af8fa408cbed"
      },
      "execution_count": null,
      "outputs": [
        {
          "output_type": "stream",
          "name": "stdout",
          "text": [
            "     ┌───┐        ┌─┐      \n",
            "q_0: ┤ X ├──■─────┤M├──────\n",
            "     └───┘┌─┴─┐   └╥┘┌─┐   \n",
            "q_1: ─────┤ X ├─■──╫─┤M├───\n",
            "          └───┘ │  ║ └╥┘┌─┐\n",
            "q_2: ───────────■──╫──╫─┤M├\n",
            "                   ║  ║ └╥┘\n",
            "c: 3/══════════════╩══╩══╩═\n",
            "                   0  1  2 \n",
            "Result: GOOGLEDevice, PROCESSOR_RAINBOW\n",
            "  Counts: [0, 0, 0, 0, 0, 0, 100, 0]\n",
            "  Probabilities: [0, 0, 0, 0, 0, 0, 1, 0]\n",
            "  Samples:\n",
            "    State: 110, Index: 6, Count: 100, Probability: 1\n",
            "  Error: None\n"
          ]
        }
      ]
    },
    {
      "cell_type": "code",
      "source": [
        "circ = QCircuit(8)\n",
        "targets = range(4)\n",
        "ancillas = range(4,8)\n",
        "for i in range(4):\n",
        "    circ.add(CNOT(targets[i], ancillas[i]))\n",
        "print(circ)"
      ],
      "metadata": {
        "colab": {
          "base_uri": "https://localhost:8080/"
        },
        "id": "bEAoipoYB0vT",
        "outputId": "d1d904b6-812d-4805-fc89-adbfb402004d"
      },
      "execution_count": null,
      "outputs": [
        {
          "output_type": "stream",
          "name": "stdout",
          "text": [
            "                         \n",
            "q_0: ──■─────────────────\n",
            "       │                 \n",
            "q_1: ──┼────■────────────\n",
            "       │    │            \n",
            "q_2: ──┼────┼────■───────\n",
            "       │    │    │       \n",
            "q_3: ──┼────┼────┼────■──\n",
            "     ┌─┴─┐  │    │    │  \n",
            "q_4: ┤ X ├──┼────┼────┼──\n",
            "     └───┘┌─┴─┐  │    │  \n",
            "q_5: ─────┤ X ├──┼────┼──\n",
            "          └───┘┌─┴─┐  │  \n",
            "q_6: ──────────┤ X ├──┼──\n",
            "               └───┘┌─┴─┐\n",
            "q_7: ───────────────┤ X ├\n",
            "                    └───┘\n"
          ]
        }
      ]
    },
    {
      "cell_type": "code",
      "source": [
        "circ = QCircuit(10)\n",
        "targets = range (5)\n",
        "ancillas = range (5,10)\n",
        "for i in range(5):\n",
        "    circ.add(CNOT(targets[i], ancillas[i]))\n",
        "print(circ)"
      ],
      "metadata": {
        "colab": {
          "base_uri": "https://localhost:8080/"
        },
        "id": "k58D69XV_rUO",
        "outputId": "bb0b34e9-9a19-41b0-8c64-efbd4e4df851"
      },
      "execution_count": null,
      "outputs": [
        {
          "output_type": "stream",
          "name": "stdout",
          "text": [
            "                              \n",
            "q_0: ──■──────────────────────\n",
            "       │                      \n",
            "q_1: ──┼────■─────────────────\n",
            "       │    │                 \n",
            "q_2: ──┼────┼────■────────────\n",
            "       │    │    │            \n",
            "q_3: ──┼────┼────┼────■───────\n",
            "       │    │    │    │       \n",
            "q_4: ──┼────┼────┼────┼────■──\n",
            "     ┌─┴─┐  │    │    │    │  \n",
            "q_5: ┤ X ├──┼────┼────┼────┼──\n",
            "     └───┘┌─┴─┐  │    │    │  \n",
            "q_6: ─────┤ X ├──┼────┼────┼──\n",
            "          └───┘┌─┴─┐  │    │  \n",
            "q_7: ──────────┤ X ├──┼────┼──\n",
            "               └───┘┌─┴─┐  │  \n",
            "q_8: ───────────────┤ X ├──┼──\n",
            "                    └───┘┌─┴─┐\n",
            "q_9: ────────────────────┤ X ├\n",
            "                         └───┘\n"
          ]
        }
      ]
    },
    {
      "cell_type": "code",
      "source": [
        "qasm2_code = '''\n",
        "OPENQASM 2.0;\n",
        "qreg q[3];\n",
        "h q[1];\n",
        "cx q[1], q[2];\n",
        "x q[0];\n",
        "'''\n",
        "qcircuit2 = QCircuit.from_other_language(qasm2_code)\n",
        "print(qcircuit2)"
      ],
      "metadata": {
        "colab": {
          "base_uri": "https://localhost:8080/"
        },
        "id": "lpPUoJf1-wYd",
        "outputId": "d962824b-5a27-4cec-d4ce-01fc58a5b93d"
      },
      "execution_count": null,
      "outputs": [
        {
          "output_type": "stream",
          "name": "stdout",
          "text": [
            "     ┌───┐     \n",
            "q_0: ┤ X ├─────\n",
            "     ├───┤     \n",
            "q_1: ┤ H ├──■──\n",
            "     └───┘┌─┴─┐\n",
            "q_2: ─────┤ X ├\n",
            "          └───┘\n"
          ]
        }
      ]
    },
    {
      "cell_type": "code",
      "source": [
        "c1 = QCircuit([T(0), CZ(0,1), H(1), Ry(4.56, 1),X(2), CNOT(1,2)])\n",
        "print(c1)\n",
        "print(c1.inverse())\n",
        "c2 = QCircuit([T(0), CRk(3, 0, 1), Barrier(), H(1), Ry(4.56, 1), H(2)])\n",
        "print(c2)\n",
        "print(c2.inverse())"
      ],
      "metadata": {
        "colab": {
          "base_uri": "https://localhost:8080/"
        },
        "id": "VMsV-dAb_QCU",
        "outputId": "05902de4-e32b-4c5b-8be3-38bb2ff9176d"
      },
      "execution_count": null,
      "outputs": [
        {
          "output_type": "stream",
          "name": "stdout",
          "text": [
            "     ┌───┐                         \n",
            "q_0: ┤ T ├─■───────────────────────\n",
            "     └───┘ │ ┌───┐┌──────────┐     \n",
            "q_1: ──────■─┤ H ├┤ Ry(4.56) ├──■──\n",
            "     ┌───┐   └───┘└──────────┘┌─┴─┐\n",
            "q_2: ┤ X ├────────────────────┤ X ├\n",
            "     └───┘                    └───┘\n",
            "                               ┌────┐\n",
            "q_0: ────────────────────────■─┤ T† ├\n",
            "          ┌───────────┐┌───┐ │ └────┘\n",
            "q_1: ──■──┤ Ry(-4.56) ├┤ H ├─■───────\n",
            "     ┌─┴─┐└───┬───┬───┘└───┘         \n",
            "q_2: ┤ X ├────┤ X ├──────────────────\n",
            "     └───┘    └───┘                  \n",
            "     ┌───┐          ░                  \n",
            "q_0: ┤ T ├─■────────░──────────────────\n",
            "     └───┘ │P(π/4)  ░ ┌───┐┌──────────┐\n",
            "q_1: ──────■────────░─┤ H ├┤ Ry(4.56) ├\n",
            "                    ░ ├───┤└──────────┘\n",
            "q_2: ───────────────░─┤ H ├────────────\n",
            "                    ░ └───┘            \n",
            "                        ░           ┌────┐\n",
            "q_0: ───────────────────░──■────────┤ T† ├\n",
            "     ┌───────────┐┌───┐ ░  │P(-π/4) └────┘\n",
            "q_1: ┤ Ry(-4.56) ├┤ H ├─░──■──────────────\n",
            "     └───┬───┬───┘└───┘ ░                 \n",
            "q_2: ────┤ H ├──────────░─────────────────\n",
            "         └───┘          ░                 \n"
          ]
        }
      ]
    },
    {
      "cell_type": "code",
      "source": [
        "theta, k = symbols(\"theta k\")\n",
        "c = QCircuit(\n",
        "    [Ry(theta, 0), CZ(1,0), CNOT(1,2), X(2), Rk(2,1), H(0), X(3), CRk(k, 0, 1),\\\n",
        "    BasisMeasure(shots=1500)]\n",
        ")\n",
        "print(c)\n",
        "print(c.subs({theta: np.pi/2, k: 2}))"
      ],
      "metadata": {
        "colab": {
          "base_uri": "https://localhost:8080/"
        },
        "id": "xInfUmTcOYf8",
        "outputId": "93442676-a8e9-4b55-da77-509cdf56d060"
      },
      "execution_count": null,
      "outputs": [
        {
          "output_type": "stream",
          "name": "stdout",
          "text": [
            "     ┌───────────┐   ┌───┐                             ┌─┐   \n",
            "q_0: ┤ Ry(theta) ├─■─┤ H ├───────────■─────────────────┤M├───\n",
            "     └───────────┘ │ └───┘┌────────┐ │P(2**(1 - k)*pi) └╥┘┌─┐\n",
            "q_1: ──────────────■───■──┤ P(π/2) ├─■──────────────────╫─┤M├\n",
            "                     ┌─┴─┐└─┬───┬──┘        ┌─┐         ║ └╥┘\n",
            "q_2: ────────────────┤ X ├──┤ X ├───────────┤M├─────────╫──╫─\n",
            "         ┌───┐    ┌─┐└───┘  └───┘           └╥┘         ║  ║ \n",
            "q_3: ────┤ X ├────┤M├────────────────────────╫──────────╫──╫─\n",
            "         └───┘    └╥┘                        ║          ║  ║ \n",
            "c: 4/══════════════╩═════════════════════════╩══════════╩══╩═\n",
            "                   3                         2          0  1 \n",
            "     ┌─────────┐   ┌───┐                   ┌─┐   \n",
            "q_0: ┤ Ry(π/2) ├─■─┤ H ├───────────■───────┤M├───\n",
            "     └─────────┘ │ └───┘┌────────┐ │P(π/2) └╥┘┌─┐\n",
            "q_1: ────────────■───■──┤ P(π/2) ├─■────────╫─┤M├\n",
            "                   ┌─┴─┐└─┬───┬──┘   ┌─┐    ║ └╥┘\n",
            "q_2: ──────────────┤ X ├──┤ X ├──────┤M├────╫──╫─\n",
            "        ┌───┐   ┌─┐└───┘  └───┘      └╥┘    ║  ║ \n",
            "q_3: ───┤ X ├───┤M├───────────────────╫─────╫──╫─\n",
            "        └───┘   └╥┘                   ║     ║  ║ \n",
            "c: 4/════════════╩════════════════════╩═════╩══╩═\n",
            "                 3                    2     0  1 \n"
          ]
        }
      ]
    },
    {
      "cell_type": "code",
      "source": [
        "circuit = QCircuit([X(0), CNOT(0, 1)])\n",
        "qc = circuit.to_other_language()\n",
        "type(qc)\n",
        "circuit2 = QCircuit([H(0), CZ(0,1), X(2), Depolarizing(0.7, [0]), BasisMeasure()])\n",
        "print(circuit2.to_other_language()) # Language BRAKET\n",
        "print(circuit2.to_other_language()) # Language QASM2\n",
        "print(circuit2.to_other_language(translation_warning=False))  # Language QASM3"
      ],
      "metadata": {
        "colab": {
          "base_uri": "https://localhost:8080/"
        },
        "id": "b8YZJtOdT6r_",
        "outputId": "a3b42c39-9f17-4c2b-e85c-4ea56bc64fbb"
      },
      "execution_count": null,
      "outputs": [
        {
          "output_type": "stream",
          "name": "stdout",
          "text": [
            "     ┌───┐   ┌─┐   \n",
            "q_0: ┤ H ├─■─┤M├───\n",
            "     └───┘ │ └╥┘┌─┐\n",
            "q_1: ──────■──╫─┤M├\n",
            "     ┌───┐┌─┐ ║ └╥┘\n",
            "q_2: ┤ X ├┤M├─╫──╫─\n",
            "     └───┘└╥┘ ║  ║ \n",
            "c: 3/══════╩══╩══╩═\n",
            "           2  0  1 \n",
            "     ┌───┐   ┌─┐   \n",
            "q_0: ┤ H ├─■─┤M├───\n",
            "     └───┘ │ └╥┘┌─┐\n",
            "q_1: ──────■──╫─┤M├\n",
            "     ┌───┐┌─┐ ║ └╥┘\n",
            "q_2: ┤ X ├┤M├─╫──╫─\n",
            "     └───┘└╥┘ ║  ║ \n",
            "c: 3/══════╩══╩══╩═\n",
            "           2  0  1 \n",
            "     ┌───┐   ┌─┐   \n",
            "q_0: ┤ H ├─■─┤M├───\n",
            "     └───┘ │ └╥┘┌─┐\n",
            "q_1: ──────■──╫─┤M├\n",
            "     ┌───┐┌─┐ ║ └╥┘\n",
            "q_2: ┤ X ├┤M├─╫──╫─\n",
            "     └───┘└╥┘ ║  ║ \n",
            "c: 3/══════╩══╩══╩═\n",
            "           2  0  1 \n"
          ]
        }
      ]
    },
    {
      "cell_type": "code",
      "source": [
        "circ1 = QCircuit(5)\n",
        "circ2 = QCircuit(10, nb_cbits=4, label=\"Example\")"
      ],
      "metadata": {
        "id": "wn7b9bmNHjXT"
      },
      "execution_count": null,
      "outputs": []
    },
    {
      "cell_type": "code",
      "source": [
        "circ2.add(CNOT(2,3))\n",
        "circ2.add([H(0), T(1), CNOT(0,1), Y(3), S(4)])\n",
        "circ2.add([CNOT(5,6), H(7), X(8), Z(9)])"
      ],
      "metadata": {
        "id": "3cqtmuKIImco"
      },
      "execution_count": null,
      "outputs": []
    },
    {
      "cell_type": "code",
      "source": [
        "circ3 = QCircuit(\n",
        "    [\n",
        "        H(0),\n",
        "        X(1),\n",
        "        CNOT(1, 2),\n",
        "        Barrier(),\n",
        "        Y(2),\n",
        "        Z(0),\n",
        "        CZ(1, 0),\n",
        "        H(4),\n",
        "        CNOT(3,4),\n",
        "        X(5),\n",
        "        BasisMeasure([0, 1, 2, 3], shots=2024),\n",
        "    ]\n",
        ")"
      ],
      "metadata": {
        "id": "LJNS9oLcS7qb"
      },
      "execution_count": null,
      "outputs": []
    },
    {
      "cell_type": "code",
      "source": [
        "print(circ2)"
      ],
      "metadata": {
        "id": "u8aY5iVzS9lK",
        "colab": {
          "base_uri": "https://localhost:8080/"
        },
        "outputId": "a5cbe205-aaad-48da-d521-2a6ad44b950e"
      },
      "execution_count": null,
      "outputs": [
        {
          "output_type": "stream",
          "name": "stdout",
          "text": [
            "     ┌───┐     \n",
            "q_0: ┤ H ├──■──\n",
            "     ├───┤┌─┴─┐\n",
            "q_1: ┤ T ├┤ X ├\n",
            "     └───┘└───┘\n",
            "q_2: ──■───────\n",
            "     ┌─┴─┐┌───┐\n",
            "q_3: ┤ X ├┤ Y ├\n",
            "     ├───┤└───┘\n",
            "q_4: ┤ S ├─────\n",
            "     └───┘     \n",
            "q_5: ──■───────\n",
            "     ┌─┴─┐     \n",
            "q_6: ┤ X ├─────\n",
            "     ├───┤     \n",
            "q_7: ┤ H ├─────\n",
            "     ├───┤     \n",
            "q_8: ┤ X ├─────\n",
            "     ├───┤     \n",
            "q_9: ┤ Z ├─────\n",
            "     └───┘     \n",
            "c: 4/══════════\n",
            "               \n"
          ]
        }
      ]
    },
    {
      "cell_type": "code",
      "source": [
        "circ3.pretty_print()"
      ],
      "metadata": {
        "id": "Jf1M2GeFTGQF",
        "colab": {
          "base_uri": "https://localhost:8080/"
        },
        "outputId": "5cbf8bc3-fe03-4239-e5f8-1491dc975fef"
      },
      "execution_count": null,
      "outputs": [
        {
          "output_type": "stream",
          "name": "stdout",
          "text": [
            "QCircuit : Size (Qubits, Cbits) = (6, 4), Nb instructions = 11\n",
            "     ┌───┐      ░ ┌───┐        ┌─┐      \n",
            "q_0: ┤ H ├──────░─┤ Z ├──■─────┤M├──────\n",
            "     ├───┤      ░ └───┘  │     └╥┘┌─┐   \n",
            "q_1: ┤ X ├──■───░────────■──────╫─┤M├───\n",
            "     └───┘┌─┴─┐ ░ ┌───┐     ┌─┐ ║ └╥┘   \n",
            "q_2: ─────┤ X ├─░─┤ Y ├─────┤M├─╫──╫────\n",
            "          └───┘ ░ └───┘     └╥┘ ║  ║ ┌─┐\n",
            "q_3: ───────────░────────■───╫──╫──╫─┤M├\n",
            "                ░ ┌───┐┌─┴─┐ ║  ║  ║ └╥┘\n",
            "q_4: ───────────░─┤ H ├┤ X ├─╫──╫──╫──╫─\n",
            "                ░ ├───┤└───┘ ║  ║  ║  ║ \n",
            "q_5: ───────────░─┤ X ├──────╫──╫──╫──╫─\n",
            "                ░ └───┘      ║  ║  ║  ║ \n",
            "c: 4/════════════════════════╩══╩══╩══╩═\n",
            "                             2  0  1  3 \n"
          ]
        }
      ]
    },
    {
      "cell_type": "code",
      "source": [
        "circ3.display(warn=False)"
      ],
      "metadata": {
        "id": "wFf-n0h_TMCK",
        "colab": {
          "base_uri": "https://localhost:8080/",
          "height": 513
        },
        "outputId": "71f29b73-b580-49d7-803d-114899c9824c"
      },
      "execution_count": null,
      "outputs": [
        {
          "output_type": "execute_result",
          "data": {
            "text/plain": [
              "<Figure size 872.774x618.722 with 1 Axes>"
            ],
            "image/png": "[encoded data removed]"
          },
          "metadata": {},
          "execution_count": 54
        }
      ]
    }
  ]
}